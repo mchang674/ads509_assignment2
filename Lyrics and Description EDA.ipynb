{
 "cells": [
  {
   "cell_type": "markdown",
   "id": "7f79baf9",
   "metadata": {},
   "source": [
    "# ADS 509 Assignment 2.1: Tokenization, Normalization, Descriptive Statistics \n",
    "\n",
    "This notebook holds Assignment 2.1 for Module 2 in ADS 509, Applied Text Mining. Work through this notebook, writing code and answering questions where required. \n",
    "\n",
    "In the previous assignment you pulled lyrics data on two artists. In this assignment we explore this data set and a pull from the now-defunct Twitter API for the artists Cher and Robyn.  If, for some reason, you did not complete that previous assignment, data to use for this assignment can be found in the assignment materials section of Canvas. \n",
    "\n",
    "This assignment asks you to write a short function to calculate some descriptive statistics on a piece of text. Then you are asked to find some interesting and unique statistics on your corpora. \n"
   ]
  },
  {
   "cell_type": "markdown",
   "id": "aae8e2e1",
   "metadata": {},
   "source": [
    "## General Assignment Instructions\n",
    "\n",
    "These instructions are included in every assignment, to remind you of the coding standards for the class. Feel free to delete this cell after reading it. \n",
    "\n",
    "One sign of mature code is conforming to a style guide. We recommend the [Google Python Style Guide](https://google.github.io/styleguide/pyguide.html). If you use a different style guide, please include a cell with a link. \n",
    "\n",
    "Your code should be relatively easy-to-read, sensibly commented, and clean. Writing code is a messy process, so please be sure to edit your final submission. Remove any cells that are not needed or parts of cells that contain unnecessary code. Remove inessential `import` statements and make sure that all such statements are moved into the designated cell. \n",
    "\n",
    "Make use of non-code cells for written commentary. These cells should be grammatical and clearly written. In some of these cells you will have questions to answer. The questions will be marked by a \"Q:\" and will have a corresponding \"A:\" spot for you. *Make sure to answer every question marked with a `Q:` for full credit.* \n"
   ]
  },
  {
   "cell_type": "code",
   "execution_count": 1,
   "id": "e2d096b7",
   "metadata": {},
   "outputs": [],
   "source": [
    "import os\n",
    "import re\n",
    "import emoji\n",
    "import pandas as pd\n",
    "import numpy as np\n",
    "\n",
    "from collections import Counter, defaultdict\n",
    "import nltk\n",
    "from nltk.corpus import stopwords\n",
    "from string import punctuation\n",
    "\n",
    "sw = stopwords.words(\"english\")"
   ]
  },
  {
   "cell_type": "code",
   "execution_count": 2,
   "id": "d169e3b0",
   "metadata": {},
   "outputs": [],
   "source": [
    "import string"
   ]
  },
  {
   "cell_type": "code",
   "execution_count": 3,
   "id": "923b5a86",
   "metadata": {},
   "outputs": [],
   "source": [
    "# change `data_location` to the location of the folder on your machine.\n",
    "data_location = \"/Users/mtc/ADS/ADS 509/M1 Results\"\n",
    "\n",
    "# These subfolders should still work if you correctly stored the \n",
    "# data from the Module 1 assignment\n",
    "twitter_folder = \"twitter/\"\n",
    "lyrics_folder = \"lyrics/\""
   ]
  },
  {
   "cell_type": "code",
   "execution_count": 4,
   "id": "a4a8b8d4",
   "metadata": {},
   "outputs": [],
   "source": [
    "ds_store_file_location = os.path.join(data_location, lyrics_folder, '.DS_store')\n",
    "if os.path.isfile(ds_store_file_location):\n",
    "    os.remove(ds_store_file_location)\n",
    "\n",
    "ds_store_file_location = os.path.join(data_location, twitter_folder, '.DS_store')\n",
    "if os.path.isfile(ds_store_file_location):\n",
    "    os.remove(ds_store_file_location)"
   ]
  },
  {
   "cell_type": "code",
   "execution_count": 5,
   "id": "06522af9",
   "metadata": {},
   "outputs": [],
   "source": [
    "def descriptive_stats(tokens, num_tokens = 5, verbose=True) :\n",
    "    \"\"\"\n",
    "        Given a list of tokens, print number of tokens, number of unique tokens, \n",
    "        number of characters, lexical diversity (https://en.wikipedia.org/wiki/Lexical_diversity), \n",
    "        and num_tokens most common tokens. Return a list with the number of tokens, number\n",
    "        of unique tokens, lexical diversity, and number of characters. \n",
    "    \"\"\"\n",
    "\n",
    "    # Fill in the correct values here. \n",
    "    num_tokens = len(tokens)\n",
    "    num_unique_tokens = len(set(tokens))\n",
    "    if num_tokens > 0:\n",
    "        lexical_diversity = num_unique_tokens/num_tokens\n",
    "    else: lexical_diversity = 0\n",
    "    num_characters = sum(len(token) for token in tokens)\n",
    "    \n",
    "    if verbose :        \n",
    "        print(f\"There are {num_tokens} tokens in the data.\")\n",
    "        print(f\"There are {num_unique_tokens} unique tokens in the data.\")\n",
    "        print(f\"There are {num_characters} characters in the data.\")\n",
    "        print(f\"The lexical diversity is {lexical_diversity:.3f} in the data.\")\n",
    "    \n",
    "        # print the five most common tokens\n",
    "    count = Counter(tokens)\n",
    "\n",
    "    top_5 = count.most_common(5)\n",
    "        \n",
    "    return([num_tokens, num_unique_tokens,\n",
    "            lexical_diversity,\n",
    "            num_characters, top_5])\n",
    "    "
   ]
  },
  {
   "cell_type": "code",
   "execution_count": 6,
   "id": "59dcf058",
   "metadata": {},
   "outputs": [
    {
     "name": "stdout",
     "output_type": "stream",
     "text": [
      "There are 13 tokens in the data.\n",
      "There are 9 unique tokens in the data.\n",
      "There are 55 characters in the data.\n",
      "The lexical diversity is 0.692 in the data.\n"
     ]
    }
   ],
   "source": [
    "text = \"\"\"here is some example text with other example text here in this text\"\"\".split()\n",
    "assert(descriptive_stats(text, verbose=True)[0] == 13)\n",
    "assert(descriptive_stats(text, verbose=False)[1] == 9)\n",
    "assert(abs(descriptive_stats(text, verbose=False)[2] - 0.69) < 0.02)\n",
    "assert(descriptive_stats(text, verbose=False)[3] == 55)\n"
   ]
  },
  {
   "cell_type": "markdown",
   "id": "d2e7e1a2",
   "metadata": {},
   "source": [
    "Q: Why is it beneficial to use assertion statements in your code? \n",
    "\n",
    "A: Assertion statements are beneficial because if the requirement specified within the statement is not met, an error is returned, stopping the rest of the code from running. If only a bollean output, such as True or False, is raised when requirements are not met, the person running the code might miss that the requirement of the check was not met. By raising an error and stopping future code chunks from running, assertion statements help bring attention towards issues earlier. Finding issues earlier leads to less wasted time down the line."
   ]
  },
  {
   "cell_type": "markdown",
   "id": "9d3bf93e",
   "metadata": {},
   "source": [
    "## Data Input\n",
    "\n",
    "Now read in each of the corpora. For the lyrics data, it may be convenient to store the entire contents of the file to make it easier to inspect the titles individually, as you'll do in the last part of the assignment. In the solution, I stored the lyrics data in a dictionary with two dimensions of keys: artist and song. The value was the file contents. A data frame would work equally well. \n",
    "\n",
    "For the Twitter data, we only need the description field for this assignment. Feel free all the descriptions read it into a data structure. In the solution, I stored the descriptions as a dictionary of lists, with the key being the artist. \n",
    "\n",
    "\n"
   ]
  },
  {
   "cell_type": "code",
   "execution_count": 92,
   "id": "37d70801",
   "metadata": {},
   "outputs": [],
   "source": [
    "# Read in the lyrics data\n",
    "lyric_df = []\n",
    "\n",
    "for artist in os.listdir(os.path.join(data_location,lyrics_folder)):\n",
    "    path = os.path.join(data_location,lyrics_folder, artist)\n",
    "\n",
    "    for file in os.listdir(path):\n",
    "\n",
    "        song_path = path + '/' + file\n",
    "\n",
    "        with open(song_path, 'r', encoding='utf-8') as s:\n",
    "            lyrics = s.read()\n",
    "            title = str(re.findall(r'\".+\"', lyrics))\n",
    "            title = title[3:-3]\n",
    "            lyrics_c = re.sub('^\".+\"', '', lyrics)\n",
    "            lyric_df.append({\n",
    "                'artist' :artist,\n",
    "                'song_title': title,\n",
    "                'lyrics': lyrics_c\n",
    "            })\n",
    "lyric_df = pd.DataFrame(lyric_df)\n"
   ]
  },
  {
   "cell_type": "code",
   "execution_count": 8,
   "id": "debcac5a",
   "metadata": {},
   "outputs": [],
   "source": [
    "# Read in the twitter data\n",
    "twitter_df= []\n",
    "\n",
    "for artist in os.listdir(os.path.join(data_location,twitter_folder)):\n",
    "    path = os.path.join(data_location,twitter_folder)\n",
    "\n",
    "    for file in os.listdir(path):\n",
    "        file_skip_sub = '_followers.txt'\n",
    "\n",
    "        if file.endswith(file_skip_sub):\n",
    "            continue\n",
    "\n",
    "        twitter_path = os.path.join(data_location, twitter_folder, file)\n",
    "\n",
    "        temp_df = pd.read_csv(twitter_path, sep='\\t', encoding='utf-8', on_bad_lines='skip')\n",
    "\n",
    "        artist = re.sub('_followers_data.txt', '', file)\n",
    "\n",
    "        desc = temp_df['description']\n",
    "\n",
    "        for i in range(len(temp_df)):\n",
    "            twitter_df.append({\n",
    "                'artist': artist,\n",
    "                'description': str(desc.iloc[i])\n",
    "            })\n",
    "twitter_df = pd.DataFrame(twitter_df)\n",
    "twitter_df = twitter_df[twitter_df['description']!= 'nan']"
   ]
  },
  {
   "cell_type": "markdown",
   "id": "6a5f3b12",
   "metadata": {},
   "source": [
    "## Data Cleaning\n",
    "\n",
    "Now clean and tokenize your data. Remove punctuation chacters (available in the `punctuation` object in the `string` library), split on whitespace, fold to lowercase, and remove stopwords. Store your cleaned data, which must be accessible as an interable for `descriptive_stats`, in new objects or in new columns in your data frame. \n",
    "\n"
   ]
  },
  {
   "cell_type": "code",
   "execution_count": 9,
   "id": "71c73d86",
   "metadata": {},
   "outputs": [],
   "source": [
    "punctuation = string.punctuation # speeds up comparison"
   ]
  },
  {
   "cell_type": "code",
   "execution_count": 10,
   "id": "b603bad2",
   "metadata": {},
   "outputs": [],
   "source": [
    "def clean(data, col, sw):\n",
    "    text = ' '.join(data[col])\n",
    "    # Remove punctuation\n",
    "    re.sub(re.escape(punctuation), '', text)\n",
    "    # Convert to lowercase and split into words\n",
    "    words = str(text).lower().split()\n",
    "    # Remove stopwords\n",
    "    cleaned_tokens = [word for word in words if word not in sw]\n",
    "    return cleaned_tokens\n"
   ]
  },
  {
   "cell_type": "code",
   "execution_count": 11,
   "id": "11590b1c",
   "metadata": {},
   "outputs": [],
   "source": [
    "# create your clean twitter data here\n",
    "robyn_t = twitter_df[twitter_df['artist'] == 'robynkonichiwa']\n",
    "cher_t = twitter_df[twitter_df['artist'] == 'cher']\n",
    "\n",
    "twitter_robyn = clean(robyn_t, 'description', sw)  \n",
    "twitter_cher = clean(cher_t, 'description', sw)  \n"
   ]
  },
  {
   "cell_type": "code",
   "execution_count": 12,
   "id": "e0f22e10",
   "metadata": {},
   "outputs": [],
   "source": [
    "# create your clean lyrics data here\n",
    "robyn_l = lyric_df[lyric_df['artist'] == 'robyn']\n",
    "cher_l = lyric_df[lyric_df['artist'] == 'cher']\n",
    "\n",
    "lyric_robyn = clean(robyn_l, 'lyrics', sw)\n",
    "lyric_cher = clean(cher_l, 'lyrics', sw)"
   ]
  },
  {
   "cell_type": "markdown",
   "id": "f2dd0179",
   "metadata": {},
   "source": [
    "## Basic Descriptive Statistics\n",
    "\n",
    "Call your `descriptive_stats` function on both your lyrics data and your twitter data and for both artists (four total calls). "
   ]
  },
  {
   "cell_type": "code",
   "execution_count": 13,
   "id": "f0bbedd9",
   "metadata": {},
   "outputs": [
    {
     "name": "stdout",
     "output_type": "stream",
     "text": [
      "There are 6482700 tokens in the data.\n",
      "There are 361761 unique tokens in the data.\n",
      "There are 40577660 characters in the data.\n",
      "The lexical diversity is 0.056 in the data.\n",
      "Twitter- Robyn: \n",
      "[6482700, 361761, 0.05580406312184738, 40577660, [('&', 68600), ('|', 62264), ('love', 41884), ('music', 41116), ('-', 39296)]]\n",
      "There are 67470576 tokens in the data.\n",
      "There are 2220461 unique tokens in the data.\n",
      "There are 413450516 characters in the data.\n",
      "The lexical diversity is 0.033 in the data.\n",
      "Twitter- Cher: \n",
      "[67470576, 2220461, 0.03291006438124969, 413450516, [('love', 795532), ('&', 686064), ('|', 514860), ('life', 344716), ('de', 292312)]]\n",
      "There are 14602 tokens in the data.\n",
      "There are 2643 unique tokens in the data.\n",
      "There are 73854 characters in the data.\n",
      "The lexical diversity is 0.181 in the data.\n",
      "Lyrics- Robyn: \n",
      "[14602, 2643, 0.18100260238323518, 73854, [('know', 297), ('love', 243), ('got', 240), ('like', 223), ('baby', 174)]]\n",
      "There are 33711 tokens in the data.\n",
      "There are 4592 unique tokens in the data.\n",
      "There are 168274 characters in the data.\n",
      "The lexical diversity is 0.136 in the data.\n",
      "Lyrics- Cher: \n",
      "[33711, 4592, 0.13621666518347128, 168274, [('love', 893), ('know', 448), ('time', 299), ('see', 286), ('one', 267)]]\n"
     ]
    }
   ],
   "source": [
    "# calls to descriptive_stats here\n",
    "print('Twitter- Robyn: \\n' + str(descriptive_stats(twitter_robyn, verbose=True)))\n",
    "\n",
    "print('Twitter- Cher: \\n' + str(descriptive_stats(twitter_cher, verbose=True)))\n",
    "\n",
    "print('Lyrics- Robyn: \\n' + str(descriptive_stats(lyric_robyn, verbose=True)))\n",
    "\n",
    "print('Lyrics- Cher: \\n' + str(descriptive_stats(lyric_cher, verbose=True)))"
   ]
  },
  {
   "cell_type": "markdown",
   "id": "46294409",
   "metadata": {},
   "source": [
    "Q: How do you think the \"top 5 words\" would be different if we left stopwords in the data? \n",
    "\n",
    "A: If we left in the stop words, I think the top 5 words would include something like \"the\", \"in\", \"a\", \"it\", or \"and\". Since these words are pretty commonly used in everyday phrases and lyrics, I think it would make sense for them to show up as the top 5 words.\n",
    "\n",
    "---\n",
    "\n",
    "Q: What were your prior beliefs about the lexical diversity between the artists? Does the difference (or lack thereof) in lexical diversity between the artists conform to your prior beliefs? \n",
    "\n",
    "A: I haven't actually listened to music by either cher or Robyn before- I think both were popular when I was a bit too young to be listening to their music. But from looking at the analysis here, they seem to have similar themes of love and knownig things.\n"
   ]
  },
  {
   "cell_type": "markdown",
   "id": "4d4e1ac1",
   "metadata": {},
   "source": [
    "\n",
    "## Specialty Statistics\n",
    "\n",
    "The descriptive statistics we have calculated are quite generic. You will now calculate a handful of statistics tailored to these data.\n",
    "\n",
    "1. Ten most common emojis by artist in the twitter descriptions.\n",
    "1. Ten most common hashtags by artist in the twitter descriptions.\n",
    "1. Five most common words in song titles by artist. \n",
    "1. For each artist, a histogram of song lengths (in terms of number of tokens) \n",
    "\n",
    "We can use the `emoji` library to help us identify emojis and you have been given a function to help you.\n"
   ]
  },
  {
   "cell_type": "code",
   "execution_count": 14,
   "id": "753a5a3e",
   "metadata": {},
   "outputs": [],
   "source": [
    "assert(emoji.is_emoji(\"❤️\"))\n",
    "assert(not emoji.is_emoji(\":-)\"))"
   ]
  },
  {
   "cell_type": "markdown",
   "id": "986fc4c0",
   "metadata": {},
   "source": [
    "### Emojis 😁\n",
    "\n",
    "What are the ten most common emojis by artist in the twitter descriptions? \n"
   ]
  },
  {
   "cell_type": "code",
   "execution_count": 43,
   "id": "269cd433",
   "metadata": {},
   "outputs": [
    {
     "name": "stdout",
     "output_type": "stream",
     "text": [
      "Top 10 Emojis for Robyn Follower Descriptions [('❤', 19232), ('🌈', 18808), ('🏳', 14156), ('♥', 12468), ('✨', 8960), ('🏻', 5992), ('✌', 4776), ('🏼', 4580), ('♀', 3392), ('💙', 3272)]\n",
      "Top 10 Emojis for Cher Follower Descriptions [('❤', 317492), ('🌈', 191180), ('♥', 136956), ('🏳', 134364), ('✨', 118860), ('💙', 85992), ('🏻', 83880), ('🌊', 81276), ('✌', 67504), ('💜', 66428)]\n"
     ]
    }
   ],
   "source": [
    "# Your code here\n",
    "emoticon_robyn=Counter()\n",
    "emoticon_cher=Counter()\n",
    "\n",
    "for token in (' '.join(twitter_robyn)):\n",
    "    if emoji.is_emoji(token)==True:\n",
    "        emoticon_robyn.update(token)\n",
    "\n",
    "for token in (' '.join(twitter_cher)):\n",
    "    if emoji.is_emoji(token)==True:\n",
    "        emoticon_cher.update(token)\n",
    "\n",
    "print('Top 10 Emojis for Robyn Follower Descriptions', emoticon_robyn.most_common(10))\n",
    "\n",
    "print('Top 10 Emojis for Cher Follower Descriptions', emoticon_cher.most_common(10))"
   ]
  },
  {
   "cell_type": "markdown",
   "id": "bab9b770",
   "metadata": {},
   "source": [
    "### Hashtags\n",
    "\n",
    "What are the ten most common hashtags by artist in the twitter descriptions? \n"
   ]
  },
  {
   "cell_type": "code",
   "execution_count": null,
   "id": "07c396f1",
   "metadata": {},
   "outputs": [
    {
     "name": "stdout",
     "output_type": "stream",
     "text": [
      "Top 10 Hashtags for Robyn Follower Descriptions [('#blacklivesmatter', 2404), ('#blm', 1452), ('#music', 1228), ('#1', 796), ('#teamfollowback', 540), ('#edm', 444), ('#lgbtq', 356), ('#resist', 344), ('#art', 292), ('#travel', 292)]\n",
      "Top 10 Hashtags for Cher Follower Descriptions [('#resist', 46608), ('#blm', 41852), ('#blacklivesmatter', 32584), ('#theresistance', 14020), ('#fbr', 13672), ('#resistance', 12228), ('#1', 10536), ('#voteblue', 9208), ('#lgbtq', 8292), ('#music', 6448)]\n"
     ]
    }
   ],
   "source": [
    "# Your code here\n",
    "\n",
    "def top_10_hash(text):\n",
    "    hash = re.findall(r\"#[a-zA-Z0-9]+\", ' '.join(text))\n",
    "    hashtag= Counter(hash)\n",
    "    return hashtag.most_common(10)\n",
    "\n",
    "print('Top 10 Hashtags for Robyn Follower Descriptions \\n',top_10_hash(twitter_robyn))\n",
    "print('Top 10 Hashtags for Cher Follower Descriptions \\n', top_10_hash(twitter_cher))"
   ]
  },
  {
   "cell_type": "markdown",
   "id": "d10f21d5",
   "metadata": {},
   "source": [
    "### Song Titles\n",
    "\n",
    "What are the five most common words in song titles by artist? The song titles should be on the first line of the lyrics pages, so if you have kept the raw file contents around, you will not need to re-read the data.\n"
   ]
  },
  {
   "cell_type": "code",
   "execution_count": 98,
   "id": "bb69b36b",
   "metadata": {},
   "outputs": [
    {
     "name": "stdout",
     "output_type": "stream",
     "text": [
      "Top 10 Words in Titles of Songs by Robyn \n",
      " [('Me', 11), ('You', 8), ('The', 8), ('My', 8), ('Love', 6), ('be', 6), ('To', 6), ('Do', 5), ('Should', 4), (\"Don\\\\'t\", 4)]\n",
      "Top 10 Words in Titles of Songs by Cher \n",
      " [('The', 53), ('You', 40), ('Love', 37), ('I', 35), ('To', 28), ('Me', 22), ('A', 22), ('Of', 21), ('And', 13), ('In', 13)]\n"
     ]
    }
   ],
   "source": [
    "# Your code here\n",
    "def title_words(text):\n",
    "    text = ' '.join(text['song_title']).split()\n",
    "    count = Counter(text)\n",
    "    return count.most_common(10)\n",
    "\n",
    "print('Top 10 Words in Titles of Songs by Robyn \\n', title_words(lyric_df[lyric_df['artist']=='robyn']))\n",
    "print('Top 10 Words in Titles of Songs by Cher \\n', title_words(lyric_df[lyric_df['artist']=='cher']))"
   ]
  },
  {
   "cell_type": "markdown",
   "id": "5dd4fd71",
   "metadata": {},
   "source": [
    "### Song Lengths\n",
    "\n",
    "For each artist, a histogram of song lengths (in terms of number of tokens). If you put the song lengths in a data frame with an artist column, matplotlib will make the plotting quite easy. An example is given to help you out. \n"
   ]
  },
  {
   "cell_type": "code",
   "execution_count": 99,
   "id": "805a1e52",
   "metadata": {},
   "outputs": [
    {
     "data": {
      "text/plain": [
       "artist\n",
       "Artist 1    Axes(0.125,0.11;0.775x0.77)\n",
       "Artist 2    Axes(0.125,0.11;0.775x0.77)\n",
       "Name: length, dtype: object"
      ]
     },
     "execution_count": 99,
     "metadata": {},
     "output_type": "execute_result"
    },
    {
     "data": {
      "image/png": "[encoded data removed]",
      "text/plain": [
       "<Figure size 640x480 with 1 Axes>"
      ]
     },
     "metadata": {},
     "output_type": "display_data"
    }
   ],
   "source": [
    "num_replicates = 1000\n",
    "\n",
    "df = pd.DataFrame({\n",
    "    \"artist\" : ['Artist 1'] * num_replicates + ['Artist 2']*num_replicates,\n",
    "    \"length\" : np.concatenate((np.random.poisson(125,num_replicates),np.random.poisson(150,num_replicates)))\n",
    "})\n",
    "\n",
    "df.groupby('artist')['length'].plot(kind=\"hist\",density=True,alpha=0.5,legend=True)"
   ]
  },
  {
   "cell_type": "markdown",
   "id": "8fde9ebb",
   "metadata": {},
   "source": [
    "Since the lyrics may be stored with carriage returns or tabs, it may be useful to have a function that can collapse whitespace, using regular expressions, and be used for splitting. \n",
    "\n",
    "Q: What does the regular expression `'\\s+'` match on? \n",
    "\n",
    "A: The regular expression above matches any length between 1 and unlimited times of white space character.\n"
   ]
  },
  {
   "cell_type": "code",
   "execution_count": 105,
   "id": "f0e34516",
   "metadata": {},
   "outputs": [],
   "source": [
    "collapse_whitespace = re.compile(r'\\s+')\n",
    "\n",
    "def tokenize_lyrics(lyric) : \n",
    "    \"\"\"strip and split on whitespace\"\"\"\n",
    "    return(len([item.lower() for item in collapse_whitespace.split(lyric)]))"
   ]
  },
  {
   "cell_type": "code",
   "execution_count": 106,
   "id": "c075a374",
   "metadata": {},
   "outputs": [],
   "source": [
    "lyric_df['length'] = lyric_df['lyrics'].apply(tokenize_lyrics)"
   ]
  },
  {
   "cell_type": "code",
   "execution_count": 108,
   "id": "2294c440",
   "metadata": {},
   "outputs": [
    {
     "data": {
      "text/plain": [
       "artist\n",
       "cher     Axes(0.125,0.11;0.775x0.77)\n",
       "robyn    Axes(0.125,0.11;0.775x0.77)\n",
       "Name: length, dtype: object"
      ]
     },
     "execution_count": 108,
     "metadata": {},
     "output_type": "execute_result"
    },
    {
     "data": {
      "image/png": "[encoded data removed]",
      "text/plain": [
       "<Figure size 640x480 with 1 Axes>"
      ]
     },
     "metadata": {},
     "output_type": "display_data"
    }
   ],
   "source": [
    "# Your lyric length comparison chart here.\n",
    "\n",
    "lyric_df.groupby('artist')['length'].plot(kind=\"hist\",density=True,alpha=0.5,legend=True)"
   ]
  }
 ],
 "metadata": {
  "kernelspec": {
   "display_name": "Python 3",
   "language": "python",
   "name": "python3"
  },
  "language_info": {
   "codemirror_mode": {
    "name": "ipython",
    "version": 3
   },
   "file_extension": ".py",
   "mimetype": "text/x-python",
   "name": "python",
   "nbconvert_exporter": "python",
   "pygments_lexer": "ipython3",
   "version": "3.12.8"
  }
 },
 "nbformat": 4,
 "nbformat_minor": 5
}
