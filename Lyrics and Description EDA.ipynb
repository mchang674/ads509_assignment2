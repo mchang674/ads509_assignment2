{
 "cells": [
  {
   "cell_type": "markdown",
   "id": "7f79baf9",
   "metadata": {},
   "source": [
    "# ADS 509 Assignment 2.1: Tokenization, Normalization, Descriptive Statistics \n",
    "\n",
    "This notebook holds Assignment 2.1 for Module 2 in ADS 509, Applied Text Mining. Work through this notebook, writing code and answering questions where required. \n",
    "\n",
    "In the previous assignment you pulled lyrics data on two artists. In this assignment we explore this data set and a pull from the now-defunct Twitter API for the artists Cher and Robyn.  If, for some reason, you did not complete that previous assignment, data to use for this assignment can be found in the assignment materials section of Canvas. \n",
    "\n",
    "This assignment asks you to write a short function to calculate some descriptive statistics on a piece of text. Then you are asked to find some interesting and unique statistics on your corpora. \n"
   ]
  },
  {
   "cell_type": "markdown",
   "id": "aae8e2e1",
   "metadata": {},
   "source": [
    "## General Assignment Instructions\n",
    "\n",
    "These instructions are included in every assignment, to remind you of the coding standards for the class. Feel free to delete this cell after reading it. \n",
    "\n",
    "One sign of mature code is conforming to a style guide. We recommend the [Google Python Style Guide](https://google.github.io/styleguide/pyguide.html). If you use a different style guide, please include a cell with a link. \n",
    "\n",
    "Your code should be relatively easy-to-read, sensibly commented, and clean. Writing code is a messy process, so please be sure to edit your final submission. Remove any cells that are not needed or parts of cells that contain unnecessary code. Remove inessential `import` statements and make sure that all such statements are moved into the designated cell. \n",
    "\n",
    "Make use of non-code cells for written commentary. These cells should be grammatical and clearly written. In some of these cells you will have questions to answer. The questions will be marked by a \"Q:\" and will have a corresponding \"A:\" spot for you. *Make sure to answer every question marked with a `Q:` for full credit.* \n"
   ]
  },
  {
   "cell_type": "code",
   "execution_count": 2,
   "id": "e2d096b7",
   "metadata": {},
   "outputs": [],
   "source": [
    "import os\n",
    "import re\n",
    "import emoji\n",
    "import pandas as pd\n",
    "import numpy as np\n",
    "\n",
    "from collections import Counter, defaultdict\n",
    "import nltk\n",
    "from nltk.corpus import stopwords\n",
    "from string import punctuation\n",
    "\n",
    "sw = stopwords.words(\"english\")"
   ]
  },
  {
   "cell_type": "code",
   "execution_count": 3,
   "id": "d169e3b0",
   "metadata": {},
   "outputs": [],
   "source": [
    "import string"
   ]
  },
  {
   "cell_type": "code",
   "execution_count": 4,
   "id": "923b5a86",
   "metadata": {},
   "outputs": [],
   "source": [
    "# change `data_location` to the location of the folder on your machine.\n",
    "data_location = \"/Users/mtc/ADS/ADS 509/M1 Results\"\n",
    "\n",
    "# These subfolders should still work if you correctly stored the \n",
    "# data from the Module 1 assignment\n",
    "twitter_folder = \"twitter/\"\n",
    "lyrics_folder = \"lyrics/\""
   ]
  },
  {
   "cell_type": "code",
   "execution_count": 5,
   "id": "a4a8b8d4",
   "metadata": {},
   "outputs": [],
   "source": [
    "ds_store_file_location = os.path.join(data_location, lyrics_folder, '.DS_store')\n",
    "if os.path.isfile(ds_store_file_location):\n",
    "    os.remove(ds_store_file_location)\n",
    "\n",
    "ds_store_file_location = os.path.join(data_location, twitter_folder, '.DS_store')\n",
    "if os.path.isfile(ds_store_file_location):\n",
    "    os.remove(ds_store_file_location)"
   ]
  },
  {
   "cell_type": "code",
   "execution_count": 6,
   "id": "06522af9",
   "metadata": {},
   "outputs": [],
   "source": [
    "def descriptive_stats(tokens, num_tokens = 5, verbose=True) :\n",
    "    \"\"\"\n",
    "        Given a list of tokens, print number of tokens, number of unique tokens, \n",
    "        number of characters, lexical diversity (https://en.wikipedia.org/wiki/Lexical_diversity), \n",
    "        and num_tokens most common tokens. Return a list with the number of tokens, number\n",
    "        of unique tokens, lexical diversity, and number of characters. \n",
    "    \"\"\"\n",
    "\n",
    "    # Fill in the correct values here. \n",
    "    num_tokens = len(tokens)\n",
    "    num_unique_tokens = len(set(tokens))\n",
    "    if num_tokens > 0:\n",
    "        lexical_diversity = num_unique_tokens/num_tokens\n",
    "    else: lexical_diversity = 0\n",
    "    num_characters = sum(len(token) for token in tokens)\n",
    "    \n",
    "    if verbose :        \n",
    "        print(f\"There are {num_tokens} tokens in the data.\")\n",
    "        print(f\"There are {num_unique_tokens} unique tokens in the data.\")\n",
    "        print(f\"There are {num_characters} characters in the data.\")\n",
    "        print(f\"The lexical diversity is {lexical_diversity:.3f} in the data.\")\n",
    "    \n",
    "        # print the five most common tokens\n",
    "        \n",
    "    return([num_tokens, num_unique_tokens,\n",
    "            lexical_diversity,\n",
    "            num_characters])\n",
    "    "
   ]
  },
  {
   "cell_type": "code",
   "execution_count": 6,
   "id": "59dcf058",
   "metadata": {},
   "outputs": [
    {
     "name": "stdout",
     "output_type": "stream",
     "text": [
      "There are 13 tokens in the data.\n",
      "There are 9 unique tokens in the data.\n",
      "There are 55 characters in the data.\n",
      "The lexical diversity is 0.692 in the data.\n"
     ]
    }
   ],
   "source": [
    "text = \"\"\"here is some example text with other example text here in this text\"\"\".split()\n",
    "assert(descriptive_stats(text, verbose=True)[0] == 13)\n",
    "assert(descriptive_stats(text, verbose=False)[1] == 9)\n",
    "assert(abs(descriptive_stats(text, verbose=False)[2] - 0.69) < 0.02)\n",
    "assert(descriptive_stats(text, verbose=False)[3] == 55)\n"
   ]
  },
  {
   "cell_type": "markdown",
   "id": "d2e7e1a2",
   "metadata": {},
   "source": [
    "Q: Why is it beneficial to use assertion statements in your code? \n",
    "\n",
    "A: Assertion statements are beneficial because if the requirement specified within the statement is not met, an error is returned, stopping the rest of the code from running. If only a bollean output, such as True or False, is raised when requirements are not met, the person running the code might miss that the requirement of the check was not met. By raising an error and stopping future code chunks from running, assertion statements help bring attention towards issues earlier. Finding issues earlier leads to less wasted time down the line."
   ]
  },
  {
   "cell_type": "markdown",
   "id": "9d3bf93e",
   "metadata": {},
   "source": [
    "## Data Input\n",
    "\n",
    "Now read in each of the corpora. For the lyrics data, it may be convenient to store the entire contents of the file to make it easier to inspect the titles individually, as you'll do in the last part of the assignment. In the solution, I stored the lyrics data in a dictionary with two dimensions of keys: artist and song. The value was the file contents. A data frame would work equally well. \n",
    "\n",
    "For the Twitter data, we only need the description field for this assignment. Feel free all the descriptions read it into a data structure. In the solution, I stored the descriptions as a dictionary of lists, with the key being the artist. \n",
    "\n",
    "\n"
   ]
  },
  {
   "cell_type": "code",
   "execution_count": 24,
   "id": "37d70801",
   "metadata": {},
   "outputs": [],
   "source": [
    "# Read in the lyrics data\n",
    "lyric_df = []\n",
    "\n",
    "for artist in os.listdir(os.path.join(data_location,lyrics_folder)):\n",
    "    path = os.path.join(data_location,lyrics_folder, artist)\n",
    "\n",
    "    for file in os.listdir(path):\n",
    "        title = re.sub('.txt', '', file)\n",
    "        title_b = re.sub('^cher|robyn_', '', title)\n",
    "        title_c = re.sub('[0-9]$', '', title_b)\n",
    "\n",
    "        song_path = path + '/' + file\n",
    "\n",
    "        with open(song_path, 'r', encoding='utf-8') as s:\n",
    "            lyrics = s.read()\n",
    "            lyrics_c = re.sub(title_c, '', lyrics)\n",
    "\n",
    "            lyric_df.append({\n",
    "                'artist' :artist,\n",
    "                'song_title': title_c,\n",
    "                'lyrics': lyrics_c\n",
    "            })\n",
    "lyric_df = pd.DataFrame(lyric_df)\n"
   ]
  },
  {
   "cell_type": "code",
   "execution_count": 8,
   "id": "debcac5a",
   "metadata": {},
   "outputs": [],
   "source": [
    "# Read in the twitter data\n",
    "twitter_df= []\n",
    "\n",
    "for artist in os.listdir(os.path.join(data_location,twitter_folder)):\n",
    "    path = os.path.join(data_location,twitter_folder)\n",
    "\n",
    "    for file in os.listdir(path):\n",
    "        file_skip_sub = '_followers.txt'\n",
    "\n",
    "        if file.endswith(file_skip_sub):\n",
    "            continue\n",
    "\n",
    "        twitter_path = os.path.join(data_location, twitter_folder, file)\n",
    "\n",
    "        temp_df = pd.read_csv(twitter_path, sep='\\t', encoding='utf-8', on_bad_lines='skip')\n",
    "        desc = temp_df['description']\n",
    "        \n",
    "        for i in range(len(temp_df)):\n",
    "            twitter_df.append({\n",
    "                'artist': re.sub('_followers_data.txt', '', artist),\n",
    "                'description': str(desc.iloc[i])\n",
    "                })\n",
    "twitter_df = pd.DataFrame(twitter_df)\n",
    "twitter_df = twitter_df[twitter_df['description']!= 'nan']\n",
    "\n",
    "        \n",
    "    "
   ]
  },
  {
   "cell_type": "markdown",
   "id": "6a5f3b12",
   "metadata": {},
   "source": [
    "## Data Cleaning\n",
    "\n",
    "Now clean and tokenize your data. Remove punctuation chacters (available in the `punctuation` object in the `string` library), split on whitespace, fold to lowercase, and remove stopwords. Store your cleaned data, which must be accessible as an interable for `descriptive_stats`, in new objects or in new columns in your data frame. \n",
    "\n"
   ]
  },
  {
   "cell_type": "code",
   "execution_count": 9,
   "id": "71c73d86",
   "metadata": {},
   "outputs": [],
   "source": [
    "punctuation = set(punctuation) # speeds up comparison"
   ]
  },
  {
   "cell_type": "code",
   "execution_count": 54,
   "id": "b603bad2",
   "metadata": {},
   "outputs": [],
   "source": [
    "def clean(text):\n",
    "    text = text.translate(str.maketrans('', '', string.punctuation))\n",
    "    tokens = text.lower().split()\n",
    "\n",
    "    cleaned_tokens = [word for word in tokens if word not in sw]\n",
    "    \n",
    "    return cleaned_tokens\n",
    "\n",
    "robyn_t = twitter_df[twitter_df['artist']!= 'cher']\n",
    "cher_t = twitter_df[twitter_df['artist']!= 'robyn']\n",
    "\n",
    "twitter_robyn = [clean(text) for text in robyn_t['description']]    \n",
    "twitter_cher = [clean(text) for text in cher_t['description']]    "
   ]
  },
  {
   "cell_type": "code",
   "execution_count": 41,
   "id": "e0f22e10",
   "metadata": {},
   "outputs": [],
   "source": [
    "# create your clean lyrics data here\n",
    "robyn_l = lyric_df[lyric_df['artist'] == 'robyn']\n",
    "cher_l = lyric_df[lyric_df['artist'] == 'cher']\n",
    "\n",
    "lyric_robyn = [clean(text) for text in robyn_l['lyrics']]    \n",
    "lyric_cher = [clean(text) for text in cher_l['lyrics']]    "
   ]
  },
  {
   "cell_type": "markdown",
   "id": "f2dd0179",
   "metadata": {},
   "source": [
    "## Basic Descriptive Statistics\n",
    "\n",
    "Call your `descriptive_stats` function on both your lyrics data and your twitter data and for both artists (four total calls). "
   ]
  },
  {
   "cell_type": "code",
   "execution_count": 57,
   "id": "f0bbedd9",
   "metadata": {},
   "outputs": [
    {
     "name": "stdout",
     "output_type": "stream",
     "text": [
      "There are 134462 tokens in the data.\n",
      "There are 50 unique tokens in the data.\n",
      "There are 134462 characters in the data.\n",
      "The lexical diversity is 0.000 in the data.\n"
     ]
    },
    {
     "data": {
      "text/plain": [
       "[134462, 50, 0.00037185227052996387, 134462]"
      ]
     },
     "execution_count": 57,
     "metadata": {},
     "output_type": "execute_result"
    }
   ],
   "source": [
    "# calls to descriptive_stats here\n",
    "descriptive_stats(str(lyric_robyn))"
   ]
  },
  {
   "cell_type": "code",
   "execution_count": 45,
   "id": "8e59766d",
   "metadata": {},
   "outputs": [
    {
     "data": {
      "application/vnd.microsoft.datawrangler.viewer.v0+json": {
       "columns": [
        {
         "name": "index",
         "rawType": "int64",
         "type": "integer"
        },
        {
         "name": "artist",
         "rawType": "object",
         "type": "string"
        },
        {
         "name": "song_title",
         "rawType": "object",
         "type": "string"
        },
        {
         "name": "lyrics",
         "rawType": "object",
         "type": "string"
        }
       ],
       "conversionMethod": "pd.DataFrame",
       "ref": "8a8aee58-8975-4330-978b-fd969e59bd4d",
       "rows": [
        [
         "0",
         "robyn",
         "includemeout",
         "\"Include Me Out\"\n\n\n\nIt is really very simple\nJust a single pulse, repeated at a regular interval\n\nMmm, hmm\nDon't include me out, no\nDon't include me out\n\nOne time for the records and the hits\nTwo for your money-maker, shake, boom\nThree times for the lucky and the dead\n\nOne time for the sorry and safe\nTwo for the beggar and his company\nThree times for the sinner and the saint\n\nYeah, bow down all you wicked and the vain\nBow to the miracle, the em, na, na\nThree times and the devil will be gone\n\nOne time for the fire, bring it on\nTwo for the boogie, gotta bang the beat\nThree times for the ladies, show me some love\n\nTalking 'bout everyone, every day, all day\n\nAnd if your world should fall apart\nThere's plenty room inside my heart\nJust don't include me out\nDon't include me out\n\nAnd if your world should fall apart\nI still got room inside my heart\nJust don't include me out\nDon't include me out, d-d-don't include me out\n\nAll hail to the mamas who hold it down\nHail to the pillar of the family\nThis one's for the granny, take a bow\n\nOne time for the crazy and the bent\nCome on, all you trannies click your heels for me\nAll praise the fugeses and the gems\n\nTalking 'bout everyone, every day, all day, oh yeah\n\nAnd if your world should fall apart\nThere's plenty room inside my heart\nJust don't include me out\nJust don't include me out\n\nAnd if your world should fall apart\nI still got room inside my heart\nJust don't include me out\nDon't include me out, d-d-don't include me out\n\nCan I get a beat, beat for all of my watchamacallits\nDoing whatever and with whoever they like?\nCan I get a beat, beat for all of my watchamacallits\nDoing whatever and with whoever they like?\n\nCan I get a bam, bam for all of my watchamacallits\nDoing whatever and with whoever they like?\nCan I get a bam, bam for all of my watchamacallits\nDoing whatever and with whoever they like?\n\nI'm talking about everyone, every day, all day, hey\n\nAnd if your world should fall apart\nThere's plenty room inside my heart\nJust don't include me out\nDon't include me out\n\nAnd if your world should fall apart\nI still got room inside my heart\nJust don't include me out\nDon't include me out\n\nAnd if your world should fall apart\nThere's plenty room inside my heart\nJust don't include me out, hey, hey\n\nAnd if your world should fall apart\nI still got room inside my heart, yeah\nJust don't include me out, hey\n"
        ],
        [
         "1",
         "robyn",
         "electric",
         "\"Electric\"\n\n\n\nElectric...\n\nIt's \nIt's a natural high\nElectric\nWe don't always know why\nElectric\nKeep your ego aside\nWell it's \nIt's a thing you can't deny\n\nBlood boils without fire\nDay come, day go\nWithout your desire\nDisturbs the flow\nWhen in denial\nNight falls,\nFalls to take you higher\n\nIt's \nIt's a natural high\nElectric\nWe don't always know why\nElectric\nKeep your ego aside\nWell it's \nIt's the thing you can't deny\n\nA hard question\nNeeds an easy answer\nRecognize, accept no need to censor\nThe harder the fall\nThe higher the bounce\nSmooth moves\nKeeps your buoyancy\nYeah, keeps your balance\nOhh ah\n\nIt's \nIt's a natural high\nElectric\nWe don't always know why\nElectric\nKeep your ego aside\nWell it's \nIt's the thing you can't deny\n\nOhh\nElectric\nElectric (can't deny that it's so)\nElectric (it's )\nElectric (oooh yeah yeah yeah)\n\nIn the eyes of a child\nAnd the love that moves\nThe sun and the stars above\nThat race your heart\nSomebody dies\nAnd you have to cry\nWhen you think this is it\nAnd then some other\nShit just happens\nYeah, it just happens, happens\nThat's when\n\nIt's \nIt's a natural high\nElectric\nWe don't always know why\nElectric\nKeep your ego aside\nWell it's \nIt's the thing you can't deny\n\nIt's \nIt's a natural high\nElectric\nWe don't always know why\nElectric\nKeep your ego aside\nWell it's \nIt's the thing you can't deny\n\nElectric....\n"
        ],
        [
         "2",
         "robyn",
         "beach2k2",
         "\"Beach 2K20\"\n\n\n\n(So you wanna go out?\nHow you gonna get there?\nOK?\nShould we call someone?\nAlright\nSo... OK)\n\n(Can't wait to go)\n(OK\nOK\nSo... OK\nOK\nOK)\n\n(So you wanna go out?)\nTo this cute place on the beach\nThey do really nice food\n(How you gonna get there?)\nI mean, it's right on the beach\nCome through, it'll be cool\n(Should we call someone?)\n(Hmm, OK)\n\n(This place on the beach\nI gotta tell ya\nThis place on the beach\nIt's a party, baby\nIt's a party)\n\n(So you wanna go out?\nHow you gonna get there?\nOK?\nShould we call someone?\nAlright\nSo... OK)\n\n(Come down\nDon't wait too long\nWhat you wanna do, baby?\nOh, yeah, yeah...\nOK)\n\nTo this cute place on the beach\nThey do really nice food\nI mean, it's right on the beach\nCome through, it'll be cool\nTo this cute place on the beach\nThey do really nice food\nI mean, it's right on the beach\nCome through, it'll be cool\n\n(So you wanna go out?\nOK\n(Let's go party)\nShould we call someone?\nAlright\n(Let's go party)\nOK)\n\nTo this cute place on the beach\nThey do really nice food\n(How you gonna get there?)\nI mean, it's right on the beach\nCome through, it'll be cool\n(Should we call someone?)\nTo this cute place on the beach\nThey do really nice food\nI mean, it's right on the beach\nCome through, it'll be cool\n(OK)\n\n(Party, party, party, party\nThis place on the beach)\n\nLet's go party\n(Let's go party)\n(Party)\n(Party)\n\nLet's go party\n(Oh, yeah)\nLet's go party\nLet's go party\n(Oh, yeah)\nLet's go party\n\n(Let's go party)\n(Let's go party)\n(Oh, yeah)\n(Party, baby)\n"
        ],
        [
         "3",
         "robyn",
         "lovekills",
         "\"Love Kills\"\n\n\n\nIf you're looking for love\nGet a heart made of steel 'cus you know that love kills\nDon't go messing with love\nIt'll hurt you for real, don't you know that love kills\n\nIf you're looking for love\nGet a heart made of steel 'cus you know that love kills\nDon't go messing with love\nIt'll hurt you for real, don't you know that love kills\n\nProtect yourself, 'cus you'll wreck yourself\nIn this cold, hard world, so check yourself\nYou conceal your dreams and you shield yourself\n'Til that one kind soul reveals itself\n\nProtect yourself, 'cus you'll wreck yourself\nIn this cold, hard world, so check yourself\nYou conceal your dreams and you shield yourself\n'Til that one kind soul reveals itself\n\nIf you're looking for love\nGet a heart made of steel 'cus you know that love kills\nDon't go messing with love\nIt'll hurt you for real, don't you know that love kills\n\nIf you're looking for love\nGet a heart made of steel 'cus you know that love kills\nDon't go messing with love\nIt'll hurt you for real, don't you know that love kills\n\nMm, and I know when you're in to deep you still think of me, sometimes\nStockholm syndrome and misery, there's a penalty for love crimes\n\nProtect yourself, 'cus you'll wreck yourself\nIn this cold, hard world, so check yourself\nYou conceal your dreams and you shield yourself\n'Til that one kind soul reveals itself\n\nProtect yourself, 'cus you'll wreck yourself\nIn this cold, hard world, so check yourself\nYou conceal your dreams and you shield yourself\n'Til that one kind soul reveals itself\n\nProtect yourself\nSo check yourself\n\nMm, and I know when you're in to deep, is to think of me, sometimes\nStockholm syndrome and misery, there's a penalty for love crimes\n\nProtect yourself, 'cus you'll wreck yourself\nIn this cold, hard world, 'cus you know that love kills\nYou conceal your dreams and you shield yourself\nIn this cold, hard world, don't you know that love kills\n\nProtect yourself, 'cus you'll wreck yourself\nIn this cold, hard world, 'cus you know that love kills\nYou conceal your dreams and you shield yourself\nIn this cold, hard world, don't you know that love kills\n\nProtect yourself, 'cus you'll wreck yourself\nIn this cold, hard world, 'cus you know that love kills\nYou conceal your dreams and you shield yourself\nIn this cold, hard world, don't you know that love kills\n"
        ],
        [
         "4",
         "robyn",
         "timemachine",
         "\"Time Machine\"\n\n\n\nHey, what did I do?\nCan't believe the fit I just threw\nStupid\nWanted the reaction\n\nI remember the words\nHow I said them, so they would hurt\nBut then, I regret my actions\n\nIf I could press rewind\nRewind the take\nRedefine the line\nWe make mistakes\nTake it back in time, \nJust one day ... hey\n\nSo all I need is a time machine\nA one way track cause\nI'm taking it back, taking it back\nAll I want is a DeLorean\nIf I could go just like that\nI'll be taking it back, taking it back\n\nYeah who's laughing now?\nDidn't think you'd actually go\nStupid\nMe and all my bitching\n\nSecond thoughts and regrets\n?? but then\nThis ain't science fiction\n\nIf I could press rewind\nRewind the take\nRedefine the line\nWe make mistakes\nTake it back in time, \nJust one day ... hey\n\nSo all I need is a time machine\nA one way track cause\nI'm taking it back, taking it back\nAll I want is a DeLorean\nIf I could go just like that\nI'll be taking it back, taking it back\n\nSo all I need is a time machine\nA one way track cause\nI'm taking it back, taking it back\nAll I want is a DeLorean\nIf I could go just like that\nI'll be taking it back, taking it back\n"
        ],
        [
         "5",
         "robyn",
         "lovekills11452",
         "\"Love Kills\"\n\n\n\nIf you're looking for love\nGet a heart made of steel 'cus you know that love kills\nDon't go messing with love\nIt'll hurt you for real, don't you know that love kills\n\nIf you're looking for love\nGet a heart made of steel 'cus you know that love kills\nDon't go messing with love\nIt'll hurt you for real, don't you know that love kills\n\nProtect yourself, 'cus you'll wreck yourself\nIn this cold, hard world, so check yourself\nYou conceal your dreams and you shield yourself\n'Til that one kind soul reveals itself\n\nProtect yourself, 'cus you'll wreck yourself\nIn this cold, hard world, so check yourself\nYou conceal your dreams and you shield yourself\n'Til that one kind soul reveals itself\n\nIf you're looking for love\nGet a heart made of steel 'cus you know that love kills\nDon't go messing with love\nIt'll hurt you for real, don't you know that love kills\n\nIf you're looking for love\nGet a heart made of steel 'cus you know that love kills\nDon't go messing with love\nIt'll hurt you for real, don't you know that love kills\n\nMm, and I know when you're in too deep you still think of me, sometimes\nStockholm syndrome and misery, there's a penalty for love crimes\n\nProtect yourself, 'cus you'll wreck yourself\nIn this cold, hard world, so check yourself\nYou conceal your dreams and you shield yourself\n'Til that one kind soul reveals itself\n\nProtect yourself, 'cus you'll wreck yourself\nIn this cold, hard world, so check yourself\nYou conceal your dreams and you shield yourself\n'Til that one kind soul reveals itself\n\nProtect yourself\nSo check yourself\n\nMm, and I know when you're in too deep you still think of me, sometimes\nStockholm syndrome and misery, there's a penalty for love crimes\n\nProtect yourself, 'cus you'll wreck yourself\nIn this cold, hard world, 'cus you know that love kills\nYou conceal your dreams and you shield yourself\nIn this cold, hard world, don't you know that love kills\n\nProtect yourself, 'cus you'll wreck yourself\nIn this cold, hard world, 'cus you know that love kills\nYou conceal your dreams and you shield yourself\nIn this cold, hard world, don't you know that love kills\n\nProtect yourself, 'cus you'll wreck yourself\nIn this cold, hard world, 'cus you know that love kills\nYou conceal your dreams and you shield yourself\nIn this cold, hard world, don't you know that love kills\n"
        ],
        [
         "6",
         "robyn",
         "givingyouback",
         "\"Giving You Back\"\n\n\n\nIn another time\nAnother life\nIn another situation I\nWould have made you mine\nWould have taken time\nTo make sure you'd be fine\n\nI could feel you coming\nI knew you would\nAnd I never imagined\nYou'd be so good\nAnd it hurts me so\nYo let you go\nI want you to live\nBut I'm not all I wanna give\n\nRight now, nothing can be right\nRight now, nothing can be wrong\nAll I can do is keep believing\n\n[CHORUS]\nI'm giving you back, to the ocean\nI'm giving you back, to the stars\nI'm giving you back, to where you came from\n(I..)\nAnd I'm not forgetting who you are\n\nWith you in me\nI was beautiful\nTwo months of joy\nBefore the impossible\nEvery second I\nLong for the day\nWhen you come back\nCome back to stay\nWhen the time is right\nWhen there's no wrong\nI'll be there for you\nAnd I'll be strong\nAnd I promise I'll be\nAll I can be \nI'm still open\nIf you still want me\nRight now, nothing can be wrong,\nRight now, nothing can be right\nAll I can do is keep believing\n\n[Chorus (x1)]\n\nYou made me see a lot clearer\nHeaven is not that far\nOne day I hope to be closer\nTo be as pure as I know that\nI know that you are\n\n[Chorus (x2)]\n"
        ],
        [
         "7",
         "robyn",
         "noneofdem11452",
         "\"None Of Dem\"\n\n\n\nNone of these boys can dance\nNot a single one of them stand a chance\nAll of them girls a mess\nI've seen it all before I'm not impressed\nNone of them get my sex \nNone of them move my intellect \nNone of them work for me \nNone of them make me feel anything\n\nI'm so bored in this town\nTake me away from here\nPlay me some kind of new sound\nSomething true and sincere\nI've got a little girl singing on repeat in my head (oh-ho)\nTake me far away from here\n\nNone of them get my stands\nNone of them do it like I can\nNone of these chicks got style\nNone of these drugs get me high\nNone of these beats are raw\nNone of these beats ever break the law\nNone of them kicks go boom\nNone of them bass lines fill the room\n\nI'm so bored in this town\nTake me away from here\nPlay me some kind of new sound\nSomething true and sincere\nI've got a little girl singing on repeat in my head (oh-ho)\nTake me far away from here\n\nI'm so bored in this town\nTake me away from here\nPlay me some kind of new sound\nSomething true and sincere\nI've got a little girl singing on repeat in my head (oh-ho)\nTake me far away from here\n"
        ],
        [
         "8",
         "robyn",
         "noneofdem",
         "\"None Of Dem\"\n\n\n\nNone of these boys can dance\nNot a single one of them stand a chance\nAll of them girls a mess\nI've seen it all before I'm not impressed\nNone of them get my sex \nNone of them move my intellect \nNone of them work for me \nNone of them make me feel anything\n\nI'm so bored in this town\nTake me away from here\nPlay me some kind of new sound\nSomething true and sincere\nI've got a little girl singing on repeat in my head (oh-ho)\nTake me far away from here\n\nNone of them get my stands\nNone of them do it like I can\nNone of these chicks got style\nNone of these drugs get me high\nNone of these beats are raw\nNone of these beats ever break the law\nNone of them kicks go boom\nNone of them bass lines fill the room\n\nI'm so bored in this town\nTake me away from here\nPlay me some kind of new sound\nSomething true and sincere\nI've got a little girl singing on repeat in my head (oh-ho)\nTake me far away from here\n\nI'm so bored in this town\nTake me away from here\nPlay me some kind of new sound\nSomething true and sincere\nI've got a little girl singing on repeat in my head (oh-ho)\nTake me far away from here\n"
        ],
        [
         "9",
         "robyn",
         "bemine",
         "\"Be Mine!\"\n\n\n\nIt's a good thing tears never show in the pouring rain\nAs if a good thing ever could make up for all the pain\nThere'll be no last chance, I promise to never mess it up again\nJust a sweet pain of watching your back as you walk\nAs I'm watching you walk away\nAnd now you're gone, there's like an echo in my head\nAnd I remember every word you said\n\nIt's a cool thing you'll never know all the ways I tried\nIt's a hard thing faking a smile when I feel like I'm falling apart inside\nAnd now you're gone, there's like an echo in my head\nAnd I remember every word you said\n\nAnd you never were and you never will be mine\nNo, you never were and you never will be mine\n\nFor the first time, there is no mercy in your eyes\nAnd the cold wind's hitting my face and you're gone\nAnd you're walking away\nAnd I am helpless sometimes, wishing's just no good\n'Cause you don't see me like I wish you would\n\n'Cause you never were and you never will be mine\nNo, you never were and you never will be mine\n\nThere's a moment to seize every time that we meet\nBut you always keep passing me by\nNo, you never were and you never will be mine\n\nI saw you at the station\nYou had your arm around what's-her-name\nShe had on that scarf I gave you\nYou got down to tie her laces\n\n'Cause you never were and you never will be mine\n(You looked happy and that's great)\nNo, you never were and you never will be mine\n(I just miss you, that's all)\n\n'Cause you never were and you never will be mine\nNo, you never were and you never will be mine\n\nThere's a moment to seize every time that we meet\nBut you have always keep passing me by\nNo, you never were and you never will be mine\n'Cause you never were and you never will be mine\nNo, you never were and you never will be mine\n\nThere's a moment to seize every time that we meet\nBut you have always keep passing me by\nNo, you never were and you never will be mine\n"
        ],
        [
         "10",
         "robyn",
         "fembot11451",
         "\"Fembot\"\n\n\n\nI've got some news for you\nFembots have feelings too\nYou split my heart in two\nNow what you gonna do?\n\n(Once you gone tech you ain't never going back)\nI'm hi-tech, baby\n\nFresh out of box, the latest model\nGenerator running on full throttle\nCan I get a fuel up? Hit the bottle\n(Reboot)\nI've got a lotta automatic booty applications\nGot a CPU maxed out sensation\nLooking for a droid to man my station\n(Reboot)\nRo-ro-rock the nation (Rock it baby)\n\nI've got some news for you\nFembots have feelings too\nYou split my heart in two\nNow what you gonna do?\n\n(Jag alskar dig)\nMy system's in mint condition\nThe power's up on my transistors\nWorking fine, no glitches\nPlug me in and flip some switches\nPull up in docking position\nPop the hatch and hit ignition\nBu-bu-burn out baby\nReady for demolition\n\n(Once you gone tech you ain't never going back)\n\nMy superbrain is all binary\nCircuitry and mainframe, tin-foil hair\nI'm sipping propane topped with a cherry\n(Reboot)\nIn fact, I'm a very scientificly advanced hot mama\nArtificially discreet, no drama\nDigitaly chic titanium armor\n(Reboot)\nRing the alarma\n\nI've got some news for you\nFembots have feelings too, you know\nYou split my heart in two\nNow what you gonna do?\n\nHere we go\nMy system's in mint condition\nThe power's up on my transistors\nWorking fine, no glitches\nPlug me in and flip some switches\nPull up in docking position\nPop the hatch and hit ignition\nBu-bu-burn out baby\nReady for demolition\n\n(Once you gone tech you ain't never going back)\n(Once you gone tech you ain't never going back)\n(Once you gone tech you ain't never going back)\n(Once you gone tech you ain't never going back)\n\nOnce you gone tech you're never ever going back\nYou've got to enter access code upon my back, on my neck\nInitiating slut mode, all space cadets on deck\nThere's a calculator in my pocket, got you all in check\n\nMy system's in mint condition\nThe power's up on my transistors\nWorking fine, no glitches\nPlug me in and flip some switches\nPull up in docking position\nPop the hatch and hit ignition\nBu-bu-burn out baby\nReady for demolition\nMy system's in mint condition\nThe power's up on my transistors\nWorking fine, no glitches\nPlug me in and flip some switches\nPull up in docking position\nPop the hatch and hit ignition\nBu-bu-burn out baby\nReady for demolition\n"
        ],
        [
         "11",
         "robyn",
         "shouldhaveknown",
         "\"Should Have Known\"\n\n\n\nI should have seen it coming, I should have fucking known\nHow could I let you play me, I don't even know\n\nI should have seen it coming, I should have fucking known\nHow could I let you play me, I don't even know\n\nI'm such a fool I can't believe I let you in my life\nyou broke the rules but I should have known you do it all the time\nThough we were cool but then again who am I kidding\nIt's every players favourite crime, to make you feel\nLike it's all real, when it's a lie\nAnd I should have known\n\nI should have known, my family they never did pretend\nMy mama felt, she never liked you neither did my friends\nand when you blamed it all on me I should have known\nthat's what liers always try to do, it wasn't me, \nIt was you, you're the fool\nAnd i should have known\n\nIf your heart was simple just like mine is, then you would know just how it feels\nWhen someone takes advantage of your kindness, you think you're never gonna heal\nIf your soul was deep just like mine is, then you would known not to give up\nKeep my faith even through the darkness, yeah I still believe in love.\n\nI still believe...\n"
        ],
        [
         "12",
         "robyn",
         "underneaththeheart",
         "\"Underneath The Heart\"\n\n\n\nI look into your eyes and see a place\nDrifting like a satellite in space\nLonging for a touch from someone who feels too much\nAnd yet you hold up your walls\nBefore I've gotten close enough\nBut baby...\nI can see the glimmer when you open up the door\nAnd that crack of shinin' light keeps me coming back for more\nTo see\n\n[CHORUS]\nUnderneath the heart, just before the lips,\nRight behind the soul\nWhat the mind has yet to know\nThe dreams you can't belive\nHave the love I need to see\nThe place we have to start is right there\nUnderneath the heart\n\nYou live inside a castle made of sand\nWhere tears would only hurt the way it stands\nI want to knock it down, start fresh on solid ground\nBut still you hide behind the truth like that's what life's all about\nBut baby...\nWords can not distract true love when true love is really real\nAnd the only way you'll know is if you show me how you feel\n\n[Chorus (x1)]\n\nYou could spend your hole life in fear of pain\nBut love is only as deep as the risk you take\nAs the risk you take...\n\n[Chorus (x1)]\n"
        ],
        [
         "13",
         "robyn",
         "eclipse",
         "\"Eclipse\"\n\n\n\nThere's an  in your eye\nWhere I used to shine\nEvery secret untold\nIs a planet aligned\nDon't need prophets or preachers\nTo make sense of the signs\nWhen the buried and hidden\nCan be seen by the blind\n\nYou're right,\nSome words are just unspoken\nSo right,\nThen it all just falls apart\n\nThe day I break your heart\n\nI caught my reflection\nIn the corner of your eye\nYou said \"Don't even ask the question,\nAnd I won't tell the lie\"\nWhere there's no accusation\nThere's no need for denial\nAnd if you hadn't heard that whisper\nThere'd be no tear to wipe from your eye\n\nYou're right,\nSome words are best unspoken\nSo right,\nThen it all just falls apart\n\nThe day I break your heart\n\nNever took no advice\nNot the foolish, not the wise\nAll the truth that I needed\nWas right there in your smile\nEvery prophecy written\nOf what's going to be\nAll beginnings and endings, \nThey're about you and me\n\nYou're right,\nSome words are best unspoken\nSo right,\nUntil it all just falls apart\nYou?re right,\nSome words are best unspoken\nSo right,\nThen it all just falls apart\n\nThe day I break your heart\n"
        ],
        [
         "14",
         "robyn",
         "robynishere",
         "\"Robyn Is Here\"\n\n\n\nRobyn is here\nRobyn is here\nRobyn is here gotta let you know\nLend me your ears can you hear my flow\n\nWake up people there's something new in the air\nCan you hear it, smell it, feel it, Robynis here\nProvin' I'm alive when I'm comin' with the spring\nMakin' my debut summer '95, startin' to sing\nBetter wake up 'cause I will make you feel alright\nWill get you in that freaky mood, will make you make love tonight\nI am here to sing, joy is what I bring\nComin' with a positive feelin' \nCause this is a Robynthing\n\nRobyn is here\nRobyn is here\nRobyn is here gotta let you know\nLend me your ears can you hear my flow\n\nGoin' downtown sittin' in the frontseat\nMy head is spinnin' around and around because of the heat\nThe sun is shinin' it makes everybody horny\nI'm just about to face it that everybody I konw is goin' crazy\nMy girls are dressed up from their heads to their feet\nBut there ain't much them clothes will hide\nGuys are mackin' making the scene complete\nI'm tellin' it's contagious it's the summervibe and I'm here\n\n[Chorus]\n\nA dedication to this special time of the year\nAnd a celebration 'cause finally I am here\nSpreadin' love to all of my family and my friends\nTo that special one I'm thinkin' of and to my audience\nI'm lettin' everything else go, have only one thing on my mind tonight\nI am gonna let you know my flow I'm gonna make you feel alright\n"
        ],
        [
         "15",
         "robyn",
         "dontstopthemusic",
         "\"Don't Stop The Music\"\n\n\n\nThis little girl didn't care what anybody said\nShe got the whole world dancing to the music in her head\nThey loved to trash her bad, laugh at her and call her names, aah yea\nAnd now they all try to copy her, isn't that a shame\nIt always made her stronger\n\n[Chorus:]\nDon't stop the music \nThe world will keep turning if you use it, get out there and \nDon't stop the music \nPeople keep dancing\nYou can do it\nBaby come on\nBaby come on\n\nHe knew that he was different\nThis sucker couldn't win\nThey didn't dig his vision\nThey tried to fit him in\nBut there's no room for loosers\nUntil they make you change \nAnd then you laugh at them\nTell me how much longer...\n\n[Chorus]\n\n[Bridge:]\nYou've got a perfect body, you've got a perfect smile\nYou're unlike anybody, got your own shine come on\nIf you just keep on dancing, then you won't feel no pain\nBaby it's your decision, only you can break the chain\n\nSo all you gotta do is dance, come on\n\nMusic like love floating in the air\nYou can reach out grab it everywhere\nShowing you you're special loved\nYou were put here on earth to make goodness for people\nBetter make it worth living while the world still spinning, come on!\n\nDon't stop, stop the music\nThe world will keep turning if you use it, Baby come on\nDon't stop, stop the music\nKeep on dancing, you can do it\nBaby come on\nBaby come on\nBaby come on\n\nDon't stop, stop the music\nKeep on dancing, you can do it\nBaby come on\n"
        ],
        [
         "16",
         "robyn",
         "criminalintent",
         "\"Criminal Intent\"\n\n\n\nSomebody alert the authorities, I got criminal intent\nConspiracy to engage in lewd and indecent acts and events\nI'mma wind it, grind it, oh my, I'mma say it again\nSomebody alert the authorities, she's got criminal intent\n\nSomebody alert the authorities, I got criminal intent\nConspiracy to engage in lewd and indecent acts and events\nI'mma wind it, grind it, oh my, I'mma say it again\nSomebody alert the authorities, she's got criminal intent\n\nSomebody alert the authorities, I got criminal intent\nConspiracy to engage in lewd and indecent acts and events\nI'mma wind it, grind it, oh my, I'mma say it again\nSomebody alert the authorities, I got criminal intent\n\n- Will the defendant please rise? State your full name for the record.\n- Robyn\n- Do you wish to say anything before the sentence is imposed?\n- I do your Honor!\n\nYou know, from time to time\nI need to get down\nUnwind and just bump and grind\nGet my shot on, have some fun\nA little dirty never hurt anyone\nI admit, I can get somewhat X-rated on the floor\nBut your Honor, how's that something you get incarcerated for?\n\nI-I-I done nothing that's wrong \n?? something that's frowned upon\nI object most strongly Judge, they played my song\n\nSomebody alert the authorities, I got criminal intent\nConspiracy to engage in lewd and indecent acts and events\nI'mma wind it, grind it, oh my, I'mma say it again\nSomebody alert the authorities, she's got criminal intent\n\nSomebody alert the authorities, I got criminal intent\nConspiracy to engage in lewd and indecent acts and events\nI'mma wind it, grind it, oh my, I'mma say it again\nSomebody alert the authorities, I got criminal intent\nSomebody alert the authorities, she's got criminal intent\n\nY-yo-yo Judge, may the record reflect the fact \nI don't have any priors\nBesides, would you pardon me \nFor being inappropriately attired?\nBut yo, listen, them cuffs down at county\nTotally ripped up my pantyhose\nAnd some snitch punk at legal aid\nStole my voucher for court clothes\n\nI done nothing that's wrong \n?? something that's frowned upon\nI object most strongly Judge, they played my song\n\nSomebody alert the authorities, I got criminal intent\nConspiracy to engage in lewd and indecent acts and events\nI'mma wind it, grind it, oh my, I'mma say it again\nSomebody alert the authorities, she's got criminal intent\n\nSomebody alert the authorities, I got criminal intent\nConspiracy to engage in lewd and indecent acts and events\nI'mma wind it, grind it, oh my, I'mma say it again\nSomebody alert the authorities, I got criminal intent\nSomebody alert the authorities, she's got criminal intent\n"
        ],
        [
         "17",
         "robyn",
         "myonlyreason",
         "\"My Only Reason\"\n\n\n\nMy only reason...\n\n[CHORUS]\nLove is my only reason and\nLove can make you do crazy things\nAnd that's why my only explanation is\n'Cause I love you and that's all\nBoy, I love you and that's all\n\nMy friends think I'm crazy\n'Cause I'm running around with you\nBut they don't know you like I do, do, and I do\nYou're so impossible, so unpridictable\nI know they don't have to tell me\nBut my heart's made up my mind, yeah\nIt's so irrational, so irresponsable \nIt may not make sense\nBut it's making me feel so deep\n\n[Chorus (x1)]\n\nYeah, yeah, heh\n\n3.30 in the morning, and you're asking why I'm still here\n(Why are you, why are you still here?)\nSay, my life will probably be safer \nIf you disappeared, yeah, don't disappear no, no\nIt's like a burning flame, that's stronger in the rain\nI ask myself why I do this, over and over again\nBut even with your pain, I still can't walk away\nUntil every chance is gone, I'll be here holding on\n\n[Chorus (x1)]\n\nI don't even have a choice\nThese kinda situations have a life of their own\nSo why is it my love enough to explain\nWhy I'm acting this way\nIt's just that\n\n[Chorus (x2)]\n"
        ],
        [
         "18",
         "robyn",
         "humanbeing",
         "\"Human Being\"\n\n\n\nI'm a human being\nAnd so are you\nMy heart can't stop beating\nDon't know what to do\n\nI'm a human being\nI'm a human being\n\nWhere to go\nThe streets are so cold\nStay in my arms\nDance with me\n\nI'm a human being\n(Move your body closer to mine)\n(Move your)\n(Move your)\n(Move your body)\nDon't be afraid\nOne step at a time\n(Move your body)\nI'm a human being\n(Baby don't give up on me now)\nI'm a human being\n\nThere's no resolution\nNo honey gold\nThere's no final union\nThere's no control, mmm\nAll these emotions are out of date\nI know it's hard\nNo peace of mind, but don't shut me out\nYou know we're the same kind\nA dying race\n\nI'm a human being\n(I'm a human being)\n(I'm a human being)\nI'm a human being\n\n(Move your body)\n(Move your)\n(Move your)\nMove your body\nMove your body closer to mine\nYeah, yeah\nYeah\n(I'm a human being)\nDon't be afraid\nOne step at a time\nBaby\nBaby, don't give up on me now\n\nI'm a human being\nBaby, don't give up on me now\n(Move your body, babe)\n(Move your)\nIt's alright\n(Move your)\n(Move your)\n(Move your body)\nDon't give up on me now\n"
        ],
        [
         "19",
         "robyn",
         "obaby",
         "\"O Baby\"\n\n\n\n[Chorus:]\nO baby you're making that mistake again oh why\nO don't you understand, everytime you do you make me cry\n\nI see those tears and it hurts so much each time you say you're sorry\ncause no more words or regretful touch could change the way I'm feeling\nYou're doing me wrong again and again you say that you will but you won't\n\n[Chorus]\n\nI stayed up late every lonely night waiting for you to call me\nI used to think if I gave you time ooo baby you'd find a way to make it right\nYou're doing me wrong again and again you say that you will but you won't \n\n[Chorus]\n\nDon't explain and don't ask me why oh baby please stop crying\nWe've been through this one too many times so baby don't you put me there again\nCause no matter how hard I try to believe this tiem I know that I won't \n\n[Chorus]\n\nDon't wonder why, baby don't cry, let's say goodbye\n"
        ],
        [
         "20",
         "robyn",
         "how",
         "\"How\"\n\n\n\nOften things in life don't make sense\nIt's when the timing is right thins can happen\nAnd I feel that my clock is tickin'\nSo if you wanna get with me, you better start thinkin'\n\nHow I want to be loved by you baby\nHow I want to feel your sweet love for real\n\nCause I'm the bomb and soon I'll explode\nDo you know which buttons to push, do you know my code\nCause if you do I'm gonna take our destiny\nAnd turn it into freaky reality\n\n(That's )\nHow I know, well it's my female intuition\nAnd something tells me that it's time for some action\nCause I've been waiting for so long for the right moment\nto let you know \nThat my desire is too string to let you go\n(How)\n\n[Chorus]\n\nYou know it's all about timing \nThat rules everything\nAnd tonight the time is right it is our night tonight\nTake your time don't let me stop you \nDo what you wanna do\nAs long as, as long as you will affect me with the things you do\nTonight's the night the time is right it is our time tonight\n"
        ],
        [
         "21",
         "robyn",
         "loveisfree",
         "\"Love Is Free\"\n\n\n\nFree\nLove is free, baby\nFree\nLove is free, baby\nBoom boom boom boom boom chica boom\nLet me give it to you, baby\nChica boom chica boom chica boom\nChica boom chica boom chica boom\nFree\nLove is free, baby\nFree\nLove is free, baby\nBoom boom boom boom boom chica boom\nLet me give it to you, baby\n\nI'ma give it to you, baby\nI'ma give it when I'm ready\nSome lose, some steady\nSome light, some heavy\nIt's all over this city\nSometimes in the ugly, sometimes in the pretty\nYou never know where you get it cause you can't control it and you can't unfold it, slow down\n\nI'ma give it to you, baby\nI'ma give it when I'm ready\nSome lose, some steady\nSome light, some heavy\nIt's all over this city\nSometimes in the ugly, sometimes in the pretty\nYou never know where you get it cause you can't control it and you can't unfold it, slow down\n\nFree\nLove is free, baby\nFree\nLove is free, baby\nBoom boom boom boom boom chica boom\nLet me give it to you, baby\nYeah! Yeah! Yeah! Yeah!\nLove is free, baby\nLove is free, baby\n\nI'ma give it to you, baby\nI'ma give it like a motha\nSafe like a rubber\nMutter like a stutter\nIt's all over this city\nSometimes in the nitty, sometimes in the gritty\nYou know I'ma give it to you better\nI'ma give you love forever\nNo, you can't control it, slow down\n\nI'ma give it to you, baby\nI'ma give it like a motha\nSafe like a rubber\nMutter like a stutter\nIt's all over this city\nSometimes in the nitty, sometimes in the gritty\nYou know I'ma give it to you better\nI'ma give you love forever\nNo, you can't control it, slow down\n\nFree\nLove is free, baby\nFree\nLove is free, baby\nBoom boom boom boom boom chica boom\nLet me give it to you, baby\nBoom boom boom boom boom\nChica boom chica boom chica boom\nBoom boom boom boom boom\nChica boom chica boom chica boom\nFree\nLove is free, baby\nFree\nLove is free, baby\n\nAprÃ©ndelo, aprÃ©ndelo\nTe lo digo right now, sÃ³lo entiÃ©ndelo\nAprÃ©ndelo, aprÃ©ndelo\nTe lo digo right now, sÃ³lo entiÃ©ndelo\nSlow down\n\nAprÃ©ndelo, aprÃ©ndelo\nTe lo digo right now, sÃ³lo entiÃ©ndelo\nAprÃ©ndelo, aprÃ©ndelo\nTe lo digo right now, sÃ³lo entiÃ©ndelo\nSlow down\n\nI'ma give it to you, baby\nI'ma give it when I'm ready\nSome lose, some steady\nSome light, some heavy\nIt's all over this city\nSometimes in the ugly, sometimes in the pretty\nYou never know where you get it cause you can't control it and you can't unfold it, slow down\n\nSlow down [x6]\nFree\nLove is free, baby\nLove is free, baby\nSo free [x4]\nYou know\nLove is free\nSo free\nFree â Love is free, baby [x8]\nSo free\n"
        ],
        [
         "22",
         "robyn",
         "longgone",
         "\"Long Gone\"\n\n\n\nLong gone\n\nLips move, I can not hear\nA single word, they're trying to say\nA car crash, in front of me\nBut I'm not there, I'm everywhere, there\n\nI shut my ears, a long time ago,\nMore comfortable, an' less vulnerable\nI may o' miss a beat, be it so,\n'Cause I hear my soul when I'm ...\n\n[CHORUS]\nLong gone\nI'm not coming in today\nI'm\nLong gone\n(Gone gone long)\nLong gone\nNext time\nI come around\nI promise\nI won't let you down\nBut now\nI'm long gone\n\nI'm calling in sick today\n\nLife's a sentence without tense\nI'm hungry, give me some\nNothing never ever taste the same\nNo\nNothing ever changes\nAn' heaven knows that we've got hell to pay\nI'll deal with that another day, 'cause now I'm\n\n[Chorus (x1)]\n\nLong gone\nLong gone\nTears in the sky, but I'm flyin' higher\nI'm long gone\n\nMaterial's bordering on translucence\nPerhaps to you it makes no sense\nBut I'm still OK to go\nInside of me the weather's beautiful, oh sandman\n\n[Chorus (x1)]\n\nLong gone\n(Gone gone long)\nLong gone\nNext time\nI come around\nI promise\nI will bring you some, 'til then\n\nI'm long gone\nI'm not coming in today\nI'm\nLong gone\n(Gone gone long)\nLong gone\nLong gone\nI'm not coming in today\nI'm\nLong gone\n(Gone gone long)\nLong gone\nLong gone\nI'm not coming in today\n"
        ],
        [
         "23",
         "robyn",
         "indestructibleacousticversion",
         "\"Indestructible (Acoustic Version)\"\n\n\n\nI'm going backwards through time at the speed of light\nI'm yours, you're mine, two satellites\nNot alone\nNo, we're not alone\n\nA freeze-frame of your eye in the strobelight\nSweat dripping down from your brow, hold tight \nDon't let go\nDon't you let me go\n\nAnd I never was smart with love\nI let the bad ones in and the good ones go\nBut I'm gonna love you like I've never been hurt before\nI'm gonna love you like I'm indestructible\nYour love is ultra magnetic and it's taking over\nThis is hardcore\nAnd I'm indestructible\n\nHands up in the air like we don't care\nWe're shooting deep into space\nAnd the lasers split the dark\nCut right through the dark\n\nIt's just us, we ignore the crowd dancing\nFall to the floor\nBeats in my heart\nPut your hands on my heart\n\nAnd I never was smart with love\nI let the bad ones in and the good ones go\nBut I'm gonna love you like I've never been hurt before\nI'm gonna love you like I'm indestructible\nYour love is ultra magnetic and it's taking over\nThis is hardcore\nOoh and I'm gonna love you like\nLike I've never been hurt before\nI'm gonna love you like I'm indestructible\nYour love is ultra magnetic and it's taking over\nThis is hardcore\nAnd I'm indestructible\n\nAnd I never was smart with love\nI let the bad ones in and the good ones go\nBut I'm gonna love you like I've never been hurt before\nI'm gonna love you like I'm indestructible\nYour love is ultra magnetic and it's taking over\nThis is hardcore\nOoh and I'm gonna love you like\nLike I've never been hurt before\nI'm gonna love you like I'm indestructible\nYour love is ultra magnetic and it's taking over\nThis is hardcore\nAnd I'm indestructible\n"
        ],
        [
         "24",
         "robyn",
         "hangwithme",
         "\"Hang With Me\"\n\n\n\nWill you tell me once again\nHow we're gonna be just friends?\nIf you're for real and not pretend\nThen I guess you can hang with me\n\nWhen my patience wearing thin\nWhen I'm ready to give in\nWill you pick me up again\nThen I guess you can hang with me\n\nAnd if you do me right\nI'm gonna do right by you\nAnd if you keep it tight\nI'm gonna confide in you\nI know what's on your mind\nThere will be time for that too\nIf you hang with me\n\nJust don't fall\nRecklessly, headlessly in love with me\nCause it's gonna be\nAll heartbreak\nBlissfully painful and insanity\nIf we agree\nOh, you can hang with me\n\nWhen you see me drift astray\nOutta touch and outta place\nWill you tell me to my face?\nThen I guess you can hang with me\n\nAnd if you do me right\nI'm gonna do right by you\nAnd if you keep it tight\nI'm gonna confide in you\nI know what's on your mind\nThere will be time for that too\nIf you hang with me\n\nJust don't fall\nRecklessly, headlessly in love with me\nCause it's gonna be\nAll heartbreak\nBlissfully painful and insanity\nIf we agree\nOh, you can hang with me\n\nWill you tell me once again\nHow we're gonna be just friends?\nIf you're for real and not pretend\nThen I guess you can hang with me\n\nAnd if you do me right\nI'm gonna do right by you\nAnd if you keep it tight\nI'm gonna confide in you\nI know what's on your mind\nThere will be time for that too\nIf you hang with me\n\nJust don't fall\nRecklessly, headlessly in love with me\nCause it's gonna be\nAll heartbreak\nBlissfully painful and insanity\nIf we agree\nYou can hang with me\n\nDon't fall\nRecklessly, headlessly in love with me\nCause it's gonna be\nAll heartbreak\nBlissfully painful and insanity\nIf we agree\nOh, you can hang with me\n"
        ],
        [
         "25",
         "robyn",
         "shouldhaveknown10682",
         "\"Should Have Known\"\n\n\n\nI should have seen it coming, I should have fucking known\nHow could I let you play me, I don't even know\n\nI should have seen it coming, I should have fucking known\nHow could I let you play me, I don't even know\n\nI'm such a fool I can't believe I let you in my life\nyou broke the rules but I should have known you do it all the time\nThough we were cool but then again who am I kidding\nIt's every players favourite crime, to make you feel\nLike it's all real, when it's a lie\nAnd I should have known\n\nI should have known, my family they never did pretend\nMy mama felt, she never liked you neither did my friends\nand when you blamed it all on me I should have known\nthat's what liers always try to do, it wasn't me, \nIt was you, you're the fool\nAnd i should have known\n\nIf your heart was simple just like mine is, then you would know just how it feels\nWhen someone takes advantage of your kindness, you think you're never gonna heal\nIf your soul was deep just like mine is, then you would known not to give up\nKeep my faith even through the darkness, yeah I still believe in love.\n\nI still believe...\n"
        ],
        [
         "26",
         "robyn",
         "moonlight",
         "\"Moonlight\"\n\n\n\nOh baby no, don't you go, let them wait\nOh baby no, don't you go, baby stay...\n\n[Verse 1:]\nDon't know the time but I feel you're getting out of bed\nThe way you felt last night I wanna feel it again\n\nOh baby no, don't you go, let them wait\nBaby don't leave me alone, please stay\n\n[Chorus:]\nThrough the , sunshine\nWe can go on and on, I'll be holding you close\nThrough the , sunshine\nHere in a world of our own\nBaby don't go\n\n[Verse 2:]\nYou say you've got things to do gotta get on with your day\nI say but think of the things we could do if you stayed\n\nNo I don't wanna be on my own\nBaby don't leave your baby alone\n"
        ],
        [
         "27",
         "robyn",
         "getmyselftogether",
         "\"Get Myself Together\"\n\n\n\nIt's all over like steps in the first snow\nSomething's been building up and it's gonna blow\nMy momma called me last night, she said what nothing else fits\nPick up the pieces and move on\nI see the flashing lights, just can't make sense of the bits \nIt's like my mind is gone\n\nI got ... got to get ...\nGet my head back on\nI got ... got to get ...\nMyself together\nWhen this hurt is gone\nI got ... got to get ...\nMyself together\n\nI got ... got to get ...\nCan't tell what's going wrong\nI wish there's something could be done\nKnock that cover\nWhen this hurt is gone\nI got ... got to get ...\nMyself together\n\nCan't stand to see you upset\nBut you already know\nThe more close it gets\nThe less I wanna go\n\nI saw my brother last night\nHe said I know you too well\nYou can't pretend that's nothing wrong\nI see the fuse that ignites, like I'm outside of myself\nIt's like my mind is gone\n\nI got ... got to get ...\nGet my head back on\nI got ... got to get ...\nMyself together\nWhen this hurt is gone\nI got ... got to get ...\nMyself together\n\nI got ... got to get ...\nCan't tell what's going wrong\nI wish there's something could be done\nKnock that cover\nWhen this hurt is gone\nI got ... got to get ...\nMyself together\n\nMy daddy put me aside\nLike when I was a child\nHe said I trust you decide\nOn what you know is right\nAnd for whatever it's worth, \nI am on your side\nThere's no denying the mess\nThat I got us in\nAnd I've been trying my best\nNot to make a scene\nJust can't make a sense of it all\nIt's like my mind is gone\n\nI got ... got to get ...\nGet my head back on\nI got ... got to get ...\nMyself together\nWhen this hurt is gone\nI got ... got to get ...\nMyself together\n\nI got ... got to get ...\nCan't tell what's going wrong\nI wish there's something could be done\nKnock that cover\nWhen this hurt is gone\nI got ... got to get ...\nMyself together\n\nI got ... got to get ...\nCan't tell what's going wrong\nI wish there's something could be done\nKnock that cover\nWhen this hurt is gone\nI got ... got to get ...\nMyself together\n"
        ],
        [
         "28",
         "robyn",
         "universalwoman",
         "\"Universal Woman\"\n\n\n\n[VERSE 1]\nShe needs a place to rest her broken soul\nLongs for a place where love is good\nHer passion for him made her heart bold\nShe sacrificed her womanhood\nLove made her brave but oh so vulnerable\nBut still she keeps on holding on\nSome say she's weak, I say she's beautiful \nHer weakness prooves that she is strong\n\n[CHORUS]\nShe's a universal woman\nAnd she lives inside of you\nShe's a universal woman \nAnd love is all she can do\n\nShe lost her spirit when she lost her child\nTo what society demands \nAnd all the children and the mother cried\n'Cause nature can not understand\nBut everytime she dies she's born again\nTrue love never just goes away\nJust like her sacrifice is not in vain\n'Cause she will allways prevail\n\n[Chorus (x1)]\n\n[Verse 1 (x1)]\n\n[Chorus (x1)]\n\nYeah love\nLove\n"
        ],
        [
         "29",
         "robyn",
         "bumpyride",
         "\"Bumpy Ride\"\n\n\n\nSometimes life can be a bumpy ride\nSometimes it feels like you're drivin with covered eyes\nAnd you listen to your friend who's in the car by your side\nThey say they've got your map, what if your friends are tellin' lies\nSo listen to your heart 'cause you can't see no roadsigns\nYou don't know where to stop or to turn\nEveryone goes through it I'm in the middle of mine\nAnd I try to remember it's the only way to learn\n\nHold on (you've gotta hold on)\nHold on (you've gotta hold on)\nYou gotta stay real true to yourself in the game\nOf becomin' a woman where the rules never stay the same\nRemember who you are, who made you and who's keepin' you here\nWho's makin' you not duck for problems in fear?\nPeople in your way, dogs and bitches\nWho's lickin' your ass? liers and snitches\n\nEven though it's a bumpy ride\nKeep your head above the waterline\nKeep focused and you'll make it through\nKeep on rollin' is what you've got to do\nEven though it's a bumpy ride don't you slip and don't you slide\nLove will be there in the end when you come around that bend\n\nYou've gotta keep your flow smooth, never hesitate\nNever stop believin' always keepin' the faith\nBut always be critical never naive\n'Cause if you can be that there's so much more you can achieve\nMaybe then when you're grown up satisfied and strong\nMaybe then you will be happy, happy that you held on\n"
        ],
        [
         "30",
         "robyn",
         "sayit",
         "\"Sayit\"\n\n\n\nSay it\n\nSay say say...\n\nSay it\n\nSay say say...\n\nI want you\n\nSay it\nI (I) want (want) you (you)\nAgain\nI (I) want (want) you (you)\nWoman, woman, woman\nBitches\n\nI want you\nAgain\nI want you\n\nI want you\nI want you\nI want you\nI want you\nI want you too\nI want you\nI want you too\nI want you\nI want you too\nI want you\nI want you too\nI want you\nI want you too\n\nWait, stop\nAlmost ready\nReady\n\nPleasure machine\nFuck mechanic\n\nI want you\nI want you too\nI want you\nI want you too\nI want you\nI want you too\nI want you\nI want you too\n\nQuiet!\n"
        ],
        [
         "31",
         "robyn",
         "callyourgirlfriend",
         "\"Call Your Girlfriend\"\n\n\n\nCall your girlfriend\nIt's time you had the talk\nGive your reasons\nSay it's not her fault\nBut you just met somebody new\n\nTell her not to get upset, second-guessing everything you said and done\nAnd then when she gets upset tell her how you never meant to hurt no one\n\nThen you tell her that the only way her heart will mend is when she learns to love again\nAnd it won't make sense right now but you're still her friend\nAnd then you let her down easy\n\nCall your girlfriend\nIt's time you had the talk\nGive your reasons\nSay it's not her fault\nBut you just met somebody new\n\nDon't you tell her how I give you something that you never even knew you missed\nDon't you even try and explain how it's so different when we kiss\n\nYou just tell her that the only way her heart will mend is when she learns to love again\nAnd it won't make sense right now but you're still her friend\nAnd then you let her down easy\n\nCall your girlfriend\nIt's time you had the talk\nGive your reasons\nSay it's not her fault\nBut you just met somebody new\n\nAnd now it's gonna be me and you\n\nAnd you tell her that the only way her heart will mend is when she learns to love again\nAnd it won't make sense right now but you're still her friend\nAnd then you let her down easy\n\nCall your girlfriend (call your girlfriend)\nIt's time you had the talk\nGive your reasons\nSay it's not her fault\n\nCall your girlfriend\nIt's time you had the talk\nGive your reasons\nSay it's not her fault\nBut you just met somebody new\n"
        ],
        [
         "32",
         "robyn",
         "tellyoutoday",
         "\"Tell You (Today)\"\n\n\n\nTell you\nTell you\nTell you\nTell you\nTell you\n\nTell you\nTell you\nTell you\nTell you\nTell you\nTell you\nTell you\n\nWalking down the street\nI knew it was my chance\nChance today\nNew shoes on my feet\nI thought that they could dance\nDance away\n\nMakes me come alive, I remember\nA look of sadness on your face\nThat was before\nI want to tell you today\nI want to tell you today\nI want to tell you today\nI want to tell you today\n\nOn my way to work\nI said your name again\nAgain today\n\nThere was just a word\nI only feel it when\nWhen I say\n\nMakes me come alive, I remember\nA look of sadness on your face\nThat was before\nI want to tell you today\nI want to tell you today\nI want to tell you today\nI want to tell you today\n"
        ],
        [
         "33",
         "robyn",
         "whosthatgirl",
         "\"Who's That Girl\"\n\n\n\nGood girls are pretty like all the time\nI'm just pretty some of the time\nGood girls are happy and satisfied\nI won't stop asking until I die\n\nI just can't deal with the rules\nI can't take the pressure\nIt's got me saying ooh, yeah...\n\nWho's that girl that you dream of?\nWho's that girl that you think you love?\nWho's that girl, well I'm nothing like her\nI know there's no such girl\nI swear I can't take the pressure\nWho's that girl?\n\nGood girls don't say no or ask you why\nI won't let you love me until you really try\nGood girls are sexy like everyday\nI'm only sexy when I say it's okay\n\nI just can't deal with the rules\nI can't take the pressure, oh no\nIt's got me saying ooh, yeah...\n\nWho's that girl that you dream of?\nWho's that girl that you think you love?\nWho's that girl, what if I'm nothing like her\nI know there's no such girl\nI swear I can't take the pressure\nWho's that girl?\n\nLet's play a game that you've never tried\nYou be the girl and I'll be the guy\nLet's pretend everything has changed, and then\nWould you love me any different?\n\nI just can't deal with the rules\nI can't take the pressure, oh no\nWho's that girl?\n\nWho's that girl that you dream of?\nWho's that girl that you think you love?\nWho's that girl, what if I'm nothing like her\nI know there's no such girl\nI swear I can't take the pressure\nWho's that girl?\nWho's that girl?\nWho's that girl that you dream of?\nWho's that girl that you think you love?\nWho's that girl, what if I'm nothing like her\nI know there's no such girl\nI swear I can't take the pressure\nWho's that girl?\n"
        ],
        [
         "34",
         "robyn",
         "aintnothing",
         "\"Ain't No Thing\"\n\n\n\n[Verse 1:]\nBoy you gotta want me, really really want me\nBoy you gotta need me cause baby I can't get enough and I\nI'm trying to catch the feeling of how we used to be and \nHow it used to feel back then\n\n[Chorus:]\nI'm saying that it ain't no thing for me \nBaby if it ain't no thing for you \nBut baby if is a thing for you\nThere'll be nothing for me and nothing for you\n\nSaid you might wanna write this down\n\n[Verse 2:]\nBoy you know i want you, really really want you, oh really need you\nBut I don't wanna pick up your socks\nAnd maybe it's a really silly thing but baby\nIt would just be nice to compromise\n"
        ],
        [
         "35",
         "robyn",
         "dancingonmyown11452",
         "\"Dancing On My Own\"\n\n\n\nSomebody said you got a new friend\nDoes she love you better than I can?\nThere's a big black sky over my town\nI know where you're at, I bet she's around\n\nYeah, I know it's stupid\nI just gotta see it for myself\n\nI'm in the corner, watching you kiss her, ohh\nI'm right over here, why can't you see me, ohh\nI'm giving it my all, but I'm not the girl you're taking home, ooo\nI keep dancing on my own\nI keep dancing on my own\n\nI'm just gonna dance all night\nI'm all messed up, I'm so out of line\nStilettos and broken bottles\nI'm spinning around in circles\n\nI'm in the corner, watching you kiss her, ohh\nI'm right over here, why can't you see me, ohh\nI'm giving it my all, but I'm not the girl you're taking home, ooo\nI keep dancing on my own\nI keep dancing on my own\n\nSo far away but still so near\nThe lights go on, the music dies\nBut you don't see me standing here\nI just came to say goodbye\n\nI'm in the corner, watching you kiss her, ohh\nI'm giving it my all, but I'm not the girl you're taking home, ooo\nI keep dancing on my own\nI keep dancing on my own\n\nI'm in the corner, watching you kiss her, ohh\nI'm right over here, why can't you see me, ohh\nI'm giving it my all, but I'm not the girl you're taking home, ooo\nI keep dancing on my own\nI keep dancing on my own\n\nI keep dancing on my own\n"
        ],
        [
         "36",
         "robyn",
         "mainthing",
         "\"Main Thing\"\n\n\n\nWe've got a thing,\nWe've got a thing,\n\nI know right now it seems like I don't care\nI know you think I never did\nand it's so hard for me to prove that I'm still here\nBecause my actions contradict it, but if\nJust you let me show you you're wrong \nI know you need time but you will see that if\nIf you let me show you you're wrong\nNothing can change what you mean to me, 'cause\n\n[CHORUS]\nWe've got a thing, you're my main thing\nYou always were and you'll always be\nWe've got a thing, you're my main thing\nAnd even when I'm gone you're still close to me\n\nI'm always told that I forget too easily\nThat I`m too fast on moving on\nAnd because of that this situation really scared me\nBut I feel my love for you is still strong\nJust let me show you you're wrong\nNothing can destroy what you and I built \nI'll keep on holding on\nYou do your thing and I'll do mine, but still\n\n[Chorus (x2)]\n\n(Yeah. Babe. Alright. Alright)\n\nEven though I did you wrong\n(Let's work it out)\nNo one knows me like you do\n(Let's work it out)\nAn everyday cliche I know\n(Let's work it out)\nEven though I'm not, my heart is true,\n(Let's work it out)\n\n(Let's work it out) [x2]\nLet's work it out\n(Let's work it out)\nOh yeah\n(Let's work it out)\nYou know I want to\n(Let's work it out)\nI wanna work it out\n(Let's work it out)\nWe've got a...\n(Let's work it out)\nWe've got a...\n(Let's work it out)\n\n[Chorus (x2)]\n"
        ],
        [
         "37",
         "robyn",
         "crywhenyougetolder",
         "\"Cry When You Get Older\"\n\n\n\nHey girl in the strobing light\nWhat your mama never told you\nIs love hurts when you do it right\nYou can cry when you get older\nYoung boy by the traffic light\nWhat your daddy never told you\nIs love hurts when you do it right\nYou can cry when you get older\n\nHold up a second, now I got something on my dirty mind\nI start out with good intentions but mess it up like all the time\nI try to keep up appearance but always end up way out of line\nI need some kind of miracle, cause I lost all my faith in science\nSo I put my faith in me\n\nShe said: \"There just must be more to life than this\"\nHe said: \"Careful, cause you might just get your wish\"\n\nHey girl in the strobing light\nWhat your mama never told you\nIs love hurts when you do it right\nYou can cry when you get older\nYoung boy by the traffic light\nWhat your daddy never told you\nIs love hurts when you do it right\nYou can cry when you get older\n\nBack in suburbia kids get high and make out on the train\nThen endless incomprehensible boredom takes a hold again\nAnd in this other dream I'm on top of the world, ahead of the game\nThink of reality and it hits me hardcore to the brain\nWe've got to get away\n\nShe said: \"There just must be more to life than this\"\nHe said: \"Careful, cause you might just get your wish\"\n\nHey girl in the strobing light\nWhat your mama never told you\nIs love hurts when you do it right\nYou can cry when you get older\nYoung boy by the traffic light\nWhat your daddy never told you\nIs love hurts when you do it right\nYou can cry when you get older\n\nBet your mama never told you that\n"
        ],
        [
         "38",
         "robyn",
         "dancehallqueen11453",
         "\"Dancehall Queen\"\n\n\n\nI take the bus to town\nSitting in the back and talk to noone\nI got the high heels on\nI go out dancing all by my own\n\nPeople are pushing by\nSomebody always tries to cut in line\nSoon as I get inside\nI loose myself in the blinding lights\n\nNow what, your jaw has dropped\nUntil the music stop, you know\nI still run this thing like a dancehall queen\nI really don't want no hassle\nNow what, your jaw has dropped\nUntil the music stop, you know\nI still run this thing like a dancehall queen\nI really don't want no hassle\n\nI got them hypnotized\nI get another shout out on the mic\nKeep me at all you like\nI came to dance, not to socialize\n\nRythm goes boom boom boom\nSame thing drops with the\nPeople all gather round\nRocking to the beat, the queen will be crowned\n\nNow what, your jaw has dropped\nUntil the music stop, you know\nI still run this thing like a dancehall queen\nI really don't want no hassle\nNow what, your jaw has dropped\nUntil the music stop, you know\nI still run this thing like a dancehall queen\nI really don't want no hassle\n\nI go down low like she wow\nShe wow, wow, wow\nOne my hips will slow like she wow\nShe wow, wow, wow\nI go down low like she wow\nShe wow, wow, wow\nOne my hips will slow like she wow\nShe wow, wow, wow\n\nNow what, your jaw has dropped\nUntil the music stop, you know\nI still run this thing like a dancehall queen\nI really don't want no hassle\nNow what, your jaw has dropped\nUntil the music stop, you know\nI still run this thing like a dancehall queen\nI really don't want no hassle\nNow what, your jaw has dropped\nUntil the music stop, you know\nI still run this thing like a dancehall queen\nI really don't want no hassle\n"
        ],
        [
         "39",
         "robyn",
         "fembot",
         "\"Fembot\"\n\n\n\nI've got some news for you\nFembots have feelings too\nYou split my heart in two\nNow what you gonna do?\n\n(Once you gone tech you ain't never going back)\nI'm hi-tech, baby\n\nFresh out of box, the latest model\nGenerator running on full throttle\nCan I get a fuel up? Hit the bottle\n(Reboot)\nI've got a lotta automatic booty applications\nGot a CPU maxed out sensation\nLooking for a droid to man my station\n(Reboot)\nRo-ro-rock the nation (Rock it baby)\n\nI've got some news for you\nFembots have feelings too\nYou split my heart in two\nNow what you gonna do?\n\n(Jag alskar dig)\nMy system's in mint condition\nThe power's up on my transistors\nWorking fine, no glitches\nPlug me in and flip some switches\nPull up in docking position\nPop the hatch and hit ignition\nBu-bu-burn out baby\nReady for demolition\n\n(Once you gone tech you ain't never going back)\n\nMy superbrain is all binary\nCircuitry and mainframe, tin-foil hair\nI'm sipping propane topped with a cherry\n(Reboot)\nIn fact, I'm a very scientificly advanced hot mama\nArtificially discreet, no drama\nDigitaly chic titanium armor\n(Reboot)\nRing the alarma\n\nI've got some news for you\nFembots have feelings too, you know\nYou split my heart in two\nNow what you gonna do?\n\nHere we go\nMy system's in mint condition\nThe power's up on my transistors\nWorking fine, no glitches\nPlug me in and flip some switches\nPull up in docking position\nPop the hatch and hit ignition\nBu-bu-burn out baby\nReady for demolition\n\n(Once you gone tech you ain't never going back)\n(Once you gone tech you ain't never going back)\n(Once you gone tech you ain't never going back)\n(Once you gone tech you ain't never going back)\n\nOnce you gone tech you're never ever going back\nYou've got to enter access code upon my back, on my neck\nInitiating slut mode, all space cadets on deck\nThere's a calculator in my pocket, got you all in check\n\nMy system's in mint condition\nThe power's up on my transistors\nWorking fine, no glitches\nPlug me in and flip some switches\nPull up in docking position\nPop the hatch and hit ignition\nBu-bu-burn out baby\nReady for demolition\nMy system's in mint condition\nThe power's up on my transistors\nWorking fine, no glitches\nPlug me in and flip some switches\nPull up in docking position\nPop the hatch and hit ignition\nBu-bu-burn out baby\nReady for demolition\n"
        ],
        [
         "40",
         "robyn",
         "everagain",
         "\"Ever Again\"\n\n\n\nCome on, let's have it out\nGo 'head and try a little crazy on me\nYou don't have to worry\nAbout the pulling and pushing away\nWe never used to get it right\nSo baby, alright for getting started\nBut that's not how it's gonna be\nThat shit's out the door\nThat shit's out the door\n\nNever gonna be brokenhearted\nEver again\n(That shit's out the door)\nI'm only gonna sing about love\nEver again\nNever gonna let it happen\nThen it won't be all for nothing\nOh, I swear I'm never gonna be brokenhearted\nEver again\n\nCome on, let's have it out\nI just want you to be able to be yourself\nThere's nothing to worry about\nHow 'bout we stop arguing and do something else?\nSo many things we haven't tried\nBaby, you know we're just getting started\nDaddy issues and silly games\nThat shit got so lame\nThat shit got so lame\n\nNever gonna be brokenhearted\nEver again\n(That shit's out the door)\nI'm only gonna sing about love\nEver again\n(Never ever gonna be brokenhearted, baby)\nNever gonna let it happen\nThen it won't be all for nothing\nOh, I swear I'm never gonna be brokenhearted\nEver again\n\nCome on, let's have it out\n(Never gonna be brokenhearted)\nCome on, let's have it out\n(Never gonna be brokenhearted)\nCome on, let's have it out\n(Never gonna be brokenhearted)\n(Ever again)\nYou know you can trust me, right?\nCome on, let's have it out\n(Only gonna sing about love ever again)\nCome on, let's have it out\nCome on, let's have it out\nYou can trust me, babe\nIt ain't ever gonna be that way again\n\nNever gonna let it happen\n(No baby, never)\nThen it won't be all for nothing\nOh, I swear I'm never gonna be brokenhearted\nEver again\nNever gonna be brokenhearted\nEver again\n(Never, never, ever)\nI'm only gonna sing about love\nEver again\n(Trust me, trust me)\nNever gonna let it happen\n(Then it won't be all for nothing, I swear)\nOh, I swear I'm never gonna be brokenhearted\nEver again\n(Ever again)\n\nNever gonna let it happen\n(Cool)\n(Ever again)\nNever gonna let it happen\n"
        ],
        [
         "41",
         "robyn",
         "mondaymorning",
         "\"Monday Morning\"\n\n\n\n[Whispered:]\n(Friday, Saturday, Sunday)\n\nI know you'll love me on a Friday night\nHaving fun is always easy with you\nYou're always down when everything's alright\nAnd just like you I love to play,\nBut real love is everyday ain't that true\nAnd I need your love the whole week through\nYeah, so\n\n[CHORUS]\nWill you still love me on a Monday morning\n72 hours ain't that long\nWill you still love me on Monday morning\nWill you hold on after the weekend's gone\n\nSaturday afternoon always comes too soon\n'Cause I know there's only one more day\nSunday morning lovemaking when we lay in bed together\nI could stay right here forever, could you\nCould you love me the whole week through\n\n[Chorus (x1)]\n\nI could brake down and start crying on a Wednesday\nWill you be around to be my shelter on a Thursday\nTuesday is coming don't be running away\nWill you stay after the weekend's gone\n\n[Chorus (x2)]\n\n(Friday, Saturday, Sunday)\n(Friday, Saturday, Sunday)\n"
        ],
        [
         "42",
         "robyn",
         "inmyeyes",
         "\"In My Eyes\"\n\n\n\nKonichiwa Records\nIt's gonna be OK\n\nOK\nOK\n\nHey little star, don't be afraid\nWe all fall apart and make mistakes\nDon't you know nothing ever seem to make sense\nYou put your dancing shoes on and do it again\nYou know I believe it if you say you can\n\nSo when you feel like it's all pretend\nThen you look into my eyes\nJust say one true thing like you mean it\nAnd, baby, just look into my eyes\n\nThe sun's gonna shine on all of us\nWe're all the same - stardust and stuff\nYou're just a little boy and I'm just a little girl\nProgrammed rebels in a cruel, cruel world\nWe never get what we deserve\n\nSo when you feel like it's all pretend\nThen you look into my eyes\nJust say one true thing like you mean it\nAnd, baby, just look into my eyes\n\nAnd though I bet you think it's better on the inside, there with them\nWe're better off outside looking back in\nI know you think you're lost but you think again\nWhen you look into my eyes\n\nOK\n\nHey little star, come take my hand\nYou'll feel better tomorrow\nTomorrow I'm still your friend\n\nSo when you feel like it's all pretend\nThen you look into my eyes\nJust say one true thing like you mean it\nAnd, baby, just look into my eyes\n\nI bet you think it's better on the inside, there with them\nWe're better off outside looking back in\nI know you think you're lost but you think again\nWhen you look into my eyes\n\nOK\n\nLittle star\nI got you\nI got you\nYou'll be OK\nYou'll be OK\n"
        ],
        [
         "43",
         "robyn",
         "dancingonmyown",
         "\"Dancing On My Own\"\n\n\n\nSomebody said you got a new friend\nDoes she love you better than I can?\nThere's a big black sky over my town\nI know where you're at, I bet she's around\n\nYeah, I know it's stupid\nI just gotta see it for myself\n\nI'm in the corner, watching you kiss her, oh\nI'm right over here, why can't you see me, oh\nI'm giving it my all, but I'm not the girl you're taking home, oh\nI keep dancing on my own\nI keep dancing on my own\n\nI'm just gonna dance all night\nI'm all messed up, I'm so out of line\nStilettos and broken bottles\nI'm spinning around in circles\n\nI'm in the corner, watching you kiss her, oh\nI'm right over here, why can't you see me, oh\nI'm giving it my all, but I'm not the girl you're taking home, oh\nI keep dancing on my own\nI keep dancing on my own\n\nSo far away but still so near\nThe lights go on, the music dies\nBut you don't see me standing here\nI just came to say goodbye\n\nI'm in the corner, watching you kiss her, oh\nI'm giving it my all, but I'm not the girl you're taking home, oh\nI keep dancing on my own\nI keep dancing on my own\n\nI'm in the corner, watching you kiss her, oh\nI'm right over here, why can't you see me, oh\nI'm giving it my all, but I'm not the girl you're taking home, oh\nI keep dancing on my own\nI keep dancing on my own\n\nI keep dancing on my own\n"
        ],
        [
         "44",
         "robyn",
         "showmelove",
         "\"Show Me Love\"\n\n\n\nYeah, yeah, yeah\n\nAlways been told that I've got too much pride\nToo independent to have you by my side\nThen my heart said, all of you will see\nJust won't live for someone until he lives for me\nNever thought I would find love so sweet\nNever thought I would meet someone like you\nWell now I've found you and I tell you no lie\nThis love I've got for you\nCould take me 'round the world\nNow show me love\n\nShow me love, show me life\nBaby show me what it's all about\nYou're the one that I ever needed\nShow me love and what it's all about, alright\n\nDon't waste this love I wanna give to you\nTell me what you got, show me what you can do\nShow me love, show me everything\nI know you've got potential\nSo baby let me in and show me love\n\nShow me love, show me life (alright)\nBaby show me what it's all about\nYou're the only one that I ever needed (show me love)\nShow me love and what it's all about, alright\n\nShow me love, (oh, show me life)\nBaby show me what it's all about (what it's all about)\nYou're the one that I ever needed\nShow me love and what it's all about, alright\n\nShow me love baby\nShow me everything you've got and show me life\nShow me love baby\nShow me everything and what it's all about\n\nYou're the one, the only one I ever needed\nShow me love and what it's all about, alright\nI'll love you\nI'll miss you\nI'll make sure\nEverything will be alright\nI'll give you my heart if you just give me love\nEvery day and every night\nShow me love, (yeah)\nShow me life (alright)\nBaby show me what it's all about (me what it's all about)\nYou're the one that I ever needed (show me love)\n\nShow me love and what it's all about, alright\nOh\nShow me love, show me life (alright)\nBaby show me what it's all about\nYou're the one that I ever needed\nShow me love and what it's all about, alright\n"
        ],
        [
         "45",
         "robyn",
         "buffalostance",
         "\"Buffalo Stance\"\n\n\n\nWho's looking good today?\nNo moneyman can win my love\n\nWho's that gigolo on the street\nWith his hands in his pockets and his crocodile feet?\nHanging off the curb, looking all disturbed\nAnd the boys from home, they all came running\nThey were making noise, manhandling toys\nThere's the girls on the block with the nasty curls\nWearing padded bras sucking beers through straws\nDropping down their drawers, where did you get yours?\n\nGigolo\nHuh, sukka?\nGigolo\nHuh, sukka?\nGigolo\n\nWho's looking good today?\nWho's looking good in every way?\nNo style rookie\nYou better watch don't mess with me\n\nNo moneyman can win my love\nIt's sweetness that I'm thinking of\nWe always hang in a buffalo stance\nWe do the dive every time we dance\nI'll give you love baby not romance\nI'll make a move nothing left to chance\nSo don't you get fresh with me\n\nSo you say you wanted money but you know it's never funny\nWhen your shoes worn through and there's a rumble in your tummy\nBut you had to have style get a gold tooth smile\nPut a girl on the corner so you can make a pile\nCommitted a crime and went inside\nIt was coming your way but you had to survive\nWhen you lost your babe, you lost your the race\nNow you're looking at me to take her place (what the fuck)\n\nWho's looking good today?\nWho's looking good in every way?\nNo style rookie\nYou better watch don't mess with me\n\nNo moneyman can win my love\nIt's sweetness that I'm thinking of\nWe always hang in a buffalo stance\nWe do the dive every time we dance\nI'll give you love baby not romance\nI'll make a move nothing left to chance\nSo don't you get fresh with me\n\nSmokin' not tokin'\nGet funky sax\nLooking good, hanging with the wild bunch\nLooking good in a buffalo stance\nLooking good when it comes to the crunch\nLooking good's a state of mind\nState of mind don't look behind you\nState of mind or you'll be dead\nState of mind may I remind you\nBomb the bass, rock this place!\n\nYo, he's a fuck boy\n\nNo moneyman can win my love\nIt's sweetness that I'm thinking of\nWe always hang in a buffalo stance\nWe do the dive every time we dance\nI'll give you love baby not romance\nI'll make a move nothing left to chance\nSo don't you get fresh with me\n\nWind on my face, sound in my ears\nWater from my eyes, and you on my mind\nAs I sink, diving down deep\nDeeper into your soul\n\nNo moneyman can win my love\nIt's sweetness that I'm thinking of\nNo moneyman can win my love\nNo moneyman can win my love\nNo moneyman can win my love\nNo moneyman can win my love\nNo moneyman can win my love\nNo moneyman\n"
        ],
        [
         "46",
         "robyn",
         "jackuoff",
         "\"Jack U Off\"\n\n\n\nIf you're looking for somewhere to go\nThought I'd take u to a movie show \nSittin' in the back and I'll jack u off\nI can't give you everything u want\nBut I can take u to a restaurant\nAnd if you're not hungry\nI'll jack u off\n\nIf your man ain't no good\nCome on over to my neighborhood\nWe can jump in the sack and I'll jack u off\n\nIf you're tired of the masturbator\nLittle girl, we can go on a date\nAnd if you like, I'll jack u off\n\nI'll jack u off, jack u off\nI'll jack u off, jack u off\n\nI only do it for a worthy cause\nVirginity or menopause\nYou'll have an instant heart attack if I jack u off\n\nIf u really want to be a star\nWe gotta do it in your momma's car\nNaked in a Cadillac, I'll jack u off\n\nAnd if we can't find no place to go\nGirl, I'll take u to a movie show, we can sit in the back\nAnd I'll jack u off\n\nI'll jack u off, jack u off\nI'll jack u off, jack u off\n\nIf you're chicken baby, come on here\nIf you're good I'll even let u steer\nAs a matter of fact, u can jack me off\nYeah, that's right\n\nI'll jack u off, jack u off\nI'll jack u off, jack u off\nI'll jack u off, jack u off\nI'll jack u off, jack u off\n"
        ],
        [
         "47",
         "robyn",
         "psycho",
         "\"Psycho\"\n\n\n\nPsycho\n\nJust woke up\nbut it's not a dream\nyou're still and I'm freaking\ndon't wanna know 'bout your plans\ndon't know how this shit began\n\nPsycho\n\nYou say you love me\nI bite my lip\nBut inside I am screaming\nThis is it I'm about to flip\nYou're staying But I wish you were leaving\n\nYou're P-S-Y-C-H-O\nI thought that you ought to know\nwhy can't you just let me be\nYou're turning  on me\nYou better rethink your life\nI'll never be your wife\nI feel just like deadly\nYou're turning  on me\n\nWhoa baby\nno baby\ndon't wanna know baby\nleave baby\nme baby\nYou're turining  on me\n\nYou call my house \nyou ask my friends\nyou wanna know how I'm doing\nReal cute stuff but I call the bluff\nYou bitter you don't think I know it\nSo wipe the tears out of your eyes\nThe guilt trip thing isn't working\nget your tounge out of my mouth\nIt's more then just a little disturbing\n\nYou're P-S-Y-C-H-O\nI thought that you ought to know\nwhy can't you just let me be\nYou're turning  on me\nYou better rethink your life\nI'll never be your wife\nI feel just like deadly\nYou're turning  on me\n\nWhoa baby\nno baby\ndon't wanna know baby\nleave baby\nme baby\nYou're turining  on me\n\n\ncrazy\n\n\n\nYou're P-S-Y-C-H-O\nI thought that you ought to know\nwhy can't you just let me be\nYou're turning  on me\nYou better rethink your life\nI'll never be your wife\nI feel just like deadly\nYou're turning  on me\n\nWhoa baby\nno baby\ndon't wanna know baby\nleave baby\nme baby\nYou're turining  on me\n\nyou better rethink your life\nDon't come back here no more\nknocking on my door\nI don't want you around\nJust leave me alone\n\nWhoa baby\nno baby\ndon't wanna know baby\nleave baby\nme baby\nYou're turining  on me\n"
        ],
        [
         "48",
         "robyn",
         "iwish",
         "\"I Wish\"\n\n\n\nDo you know what I think all these nights when I can't sleep, sleep at all\nSlowly I close my eyes \nMy thoughts they fly away to you no matter what I do\nI wish I could turn back time \nBack to the time when you were mine I wish\n\nI wish the day, the day you went away never happened baby\nI wish the stars, the stars in heaven would come down to me\nSo I could give them to you\nTell me then would you be lovin' me like I wish\n\nAnd it's so hard when you love someone this much\nBut you just don't how, how to love him the right way\nIf you could see, what you've done to me\nWhat you've done to my heart, what you've done to my soul baby\nAll of my mind and all of my body then you should know\nWhy I can't let go and baby I\n\nI wish the day, the day you went away never happened baby\nI wish the stars. the stars in heaven would come down to me\nSo I could give them to you\nTell me then would you be lovin' me like I wish\n\nI don't know what you want me to do \nTo prove my love is real for you\nI don't know what you want me do say baby \nThere is no if's or maybe's\nAll I want is you 'cause baby you are my only wish\nMy only wish\n"
        ],
        [
         "49",
         "robyn",
         "betweenthelines",
         "\"Between The Lines\"\n\n\n\nEven reading in between the lines\n\nEvery day, you hit my phone up\nEvery time\n(You hit my phone up)\nIt makes my heart jump\nI want you to say it, baby\n(It makes my heart jump)\nSay it like you mean it\nIt's right there on the tip of your tongue\n(You hit my phone up)\nAnd I can feel it\nAnd I like it baby\nDon't you stop\n(Don't stop what you're doing, baby)\nYou know I like it\nYou stretch it out\n(You know I like it)\nYou give massages\nIt's not your words\n(You know I like it)\nIt's what's in between them\nThere's no need to spell out\n(It makes my heart jump)\nI know you want it\nAnd I like it baby\n\nI'm reading in between the lines\nI'm reading in between the lines\n(You got me reading in between the lines)\nI'm reading in between the lines\n(Even reading in between the lines)\nI'm reading in between the lines\n(You got me reading in between the lines)\nAnd I like it, baby\nAnd I like it, baby\n(Even reading in between the lines)\n\nI don't mind\n(i don't really mind it baby)\nWhen we get silent\nPressure's rising, it's so intense\n(When we get silent)\nWe're making diamonds\nThere's no need to say it baby\n(We're making diamonds)\n'Cause I can tell you mean it\nAll over the tip of your tongue\n(We're making diamonds)\nYou got me spaced out\nAnd I like it, baby\n\nI'm reading in between the lines\nI'm reading in between the lines\n(You got me reading in between the lines)\nI'm reading in between the lines\n(Even reading in between the lines)\nI'm reading in between the lines\n(You got me reading in between the lines)\nAnd I like it, baby\nAnd I like it, baby\n(Even reading in between the lines)\n\nAnd I like it, baby\nAnd I like it\nAnd I like it, baby\nAnd I like it\n(Relax)\n(That's amazing)\nYou got me reading in between the lines\n(That shit's so good)\n(Relax)\nYou got me reading in between the lines\n(Amazing)\n"
        ]
       ],
       "shape": {
        "columns": 3,
        "rows": 420
       }
      },
      "text/html": [
       "<div>\n",
       "<style scoped>\n",
       "    .dataframe tbody tr th:only-of-type {\n",
       "        vertical-align: middle;\n",
       "    }\n",
       "\n",
       "    .dataframe tbody tr th {\n",
       "        vertical-align: top;\n",
       "    }\n",
       "\n",
       "    .dataframe thead th {\n",
       "        text-align: right;\n",
       "    }\n",
       "</style>\n",
       "<table border=\"1\" class=\"dataframe\">\n",
       "  <thead>\n",
       "    <tr style=\"text-align: right;\">\n",
       "      <th></th>\n",
       "      <th>artist</th>\n",
       "      <th>song_title</th>\n",
       "      <th>lyrics</th>\n",
       "    </tr>\n",
       "  </thead>\n",
       "  <tbody>\n",
       "    <tr>\n",
       "      <th>0</th>\n",
       "      <td>robyn</td>\n",
       "      <td>includemeout</td>\n",
       "      <td>\"Include Me Out\"\\n\\n\\n\\nIt is really very simp...</td>\n",
       "    </tr>\n",
       "    <tr>\n",
       "      <th>1</th>\n",
       "      <td>robyn</td>\n",
       "      <td>electric</td>\n",
       "      <td>\"Electric\"\\n\\n\\n\\nElectric...\\n\\nIt's \\nIt's a...</td>\n",
       "    </tr>\n",
       "    <tr>\n",
       "      <th>2</th>\n",
       "      <td>robyn</td>\n",
       "      <td>beach2k2</td>\n",
       "      <td>\"Beach 2K20\"\\n\\n\\n\\n(So you wanna go out?\\nHow...</td>\n",
       "    </tr>\n",
       "    <tr>\n",
       "      <th>3</th>\n",
       "      <td>robyn</td>\n",
       "      <td>lovekills</td>\n",
       "      <td>\"Love Kills\"\\n\\n\\n\\nIf you're looking for love...</td>\n",
       "    </tr>\n",
       "    <tr>\n",
       "      <th>4</th>\n",
       "      <td>robyn</td>\n",
       "      <td>timemachine</td>\n",
       "      <td>\"Time Machine\"\\n\\n\\n\\nHey, what did I do?\\nCan...</td>\n",
       "    </tr>\n",
       "    <tr>\n",
       "      <th>...</th>\n",
       "      <td>...</td>\n",
       "      <td>...</td>\n",
       "      <td>...</td>\n",
       "    </tr>\n",
       "    <tr>\n",
       "      <th>415</th>\n",
       "      <td>cher</td>\n",
       "      <td>_takeitfromtheboys</td>\n",
       "      <td>\"Take It From The Boys\"\\n\\n\\n\\nSo scared I nev...</td>\n",
       "    </tr>\n",
       "    <tr>\n",
       "      <th>416</th>\n",
       "      <td>cher</td>\n",
       "      <td>_dreambaby</td>\n",
       "      <td>\"Dream Baby\"\\n\\n\\n\\nI found the boy for me\\nHe...</td>\n",
       "    </tr>\n",
       "    <tr>\n",
       "      <th>417</th>\n",
       "      <td>cher</td>\n",
       "      <td>_pleasedonttellme</td>\n",
       "      <td>\"Please Don't Tell Me\"\\n\\n\\n\\nYa shook the ove...</td>\n",
       "    </tr>\n",
       "    <tr>\n",
       "      <th>418</th>\n",
       "      <td>cher</td>\n",
       "      <td>_ihopeyoufindit</td>\n",
       "      <td>\"I Hope You Find It\"\\n\\n\\n\\nThese clouds aren'...</td>\n",
       "    </tr>\n",
       "    <tr>\n",
       "      <th>419</th>\n",
       "      <td>cher</td>\n",
       "      <td>_classified1a</td>\n",
       "      <td>\"Classified 1A\"\\n\\n\\n\\nI know now how much I l...</td>\n",
       "    </tr>\n",
       "  </tbody>\n",
       "</table>\n",
       "<p>420 rows × 3 columns</p>\n",
       "</div>"
      ],
      "text/plain": [
       "    artist          song_title  \\\n",
       "0    robyn        includemeout   \n",
       "1    robyn            electric   \n",
       "2    robyn            beach2k2   \n",
       "3    robyn           lovekills   \n",
       "4    robyn         timemachine   \n",
       "..     ...                 ...   \n",
       "415   cher  _takeitfromtheboys   \n",
       "416   cher          _dreambaby   \n",
       "417   cher   _pleasedonttellme   \n",
       "418   cher     _ihopeyoufindit   \n",
       "419   cher       _classified1a   \n",
       "\n",
       "                                                lyrics  \n",
       "0    \"Include Me Out\"\\n\\n\\n\\nIt is really very simp...  \n",
       "1    \"Electric\"\\n\\n\\n\\nElectric...\\n\\nIt's \\nIt's a...  \n",
       "2    \"Beach 2K20\"\\n\\n\\n\\n(So you wanna go out?\\nHow...  \n",
       "3    \"Love Kills\"\\n\\n\\n\\nIf you're looking for love...  \n",
       "4    \"Time Machine\"\\n\\n\\n\\nHey, what did I do?\\nCan...  \n",
       "..                                                 ...  \n",
       "415  \"Take It From The Boys\"\\n\\n\\n\\nSo scared I nev...  \n",
       "416  \"Dream Baby\"\\n\\n\\n\\nI found the boy for me\\nHe...  \n",
       "417  \"Please Don't Tell Me\"\\n\\n\\n\\nYa shook the ove...  \n",
       "418  \"I Hope You Find It\"\\n\\n\\n\\nThese clouds aren'...  \n",
       "419  \"Classified 1A\"\\n\\n\\n\\nI know now how much I l...  \n",
       "\n",
       "[420 rows x 3 columns]"
      ]
     },
     "execution_count": 45,
     "metadata": {},
     "output_type": "execute_result"
    }
   ],
   "source": [
    "lyric_df"
   ]
  },
  {
   "cell_type": "markdown",
   "id": "b19d38cd",
   "metadata": {},
   "source": []
  },
  {
   "cell_type": "markdown",
   "id": "46294409",
   "metadata": {},
   "source": [
    "Q: How do you think the \"top 5 words\" would be different if we left stopwords in the data? \n",
    "\n",
    "A: \n",
    "\n",
    "---\n",
    "\n",
    "Q: What were your prior beliefs about the lexical diversity between the artists? Does the difference (or lack thereof) in lexical diversity between the artists conform to your prior beliefs? \n",
    "\n",
    "A: \n"
   ]
  },
  {
   "cell_type": "markdown",
   "id": "4d4e1ac1",
   "metadata": {},
   "source": [
    "\n",
    "## Specialty Statistics\n",
    "\n",
    "The descriptive statistics we have calculated are quite generic. You will now calculate a handful of statistics tailored to these data.\n",
    "\n",
    "1. Ten most common emojis by artist in the twitter descriptions.\n",
    "1. Ten most common hashtags by artist in the twitter descriptions.\n",
    "1. Five most common words in song titles by artist. \n",
    "1. For each artist, a histogram of song lengths (in terms of number of tokens) \n",
    "\n",
    "We can use the `emoji` library to help us identify emojis and you have been given a function to help you.\n"
   ]
  },
  {
   "cell_type": "code",
   "execution_count": 6,
   "id": "753a5a3e",
   "metadata": {},
   "outputs": [],
   "source": [
    "assert(emoji.is_emoji(\"❤️\"))\n",
    "assert(not emoji.is_emoji(\":-)\"))"
   ]
  },
  {
   "cell_type": "markdown",
   "id": "986fc4c0",
   "metadata": {},
   "source": [
    "### Emojis 😁\n",
    "\n",
    "What are the ten most common emojis by artist in the twitter descriptions? \n"
   ]
  },
  {
   "cell_type": "code",
   "execution_count": null,
   "id": "269cd433",
   "metadata": {},
   "outputs": [],
   "source": [
    "# Your code here"
   ]
  },
  {
   "cell_type": "markdown",
   "id": "bab9b770",
   "metadata": {},
   "source": [
    "### Hashtags\n",
    "\n",
    "What are the ten most common hashtags by artist in the twitter descriptions? \n"
   ]
  },
  {
   "cell_type": "code",
   "execution_count": null,
   "id": "07c396f1",
   "metadata": {},
   "outputs": [],
   "source": [
    "# Your code here"
   ]
  },
  {
   "cell_type": "markdown",
   "id": "d10f21d5",
   "metadata": {},
   "source": [
    "### Song Titles\n",
    "\n",
    "What are the five most common words in song titles by artist? The song titles should be on the first line of the lyrics pages, so if you have kept the raw file contents around, you will not need to re-read the data.\n"
   ]
  },
  {
   "cell_type": "code",
   "execution_count": null,
   "id": "bb69b36b",
   "metadata": {},
   "outputs": [],
   "source": [
    "# Your code here"
   ]
  },
  {
   "cell_type": "markdown",
   "id": "5dd4fd71",
   "metadata": {},
   "source": [
    "### Song Lengths\n",
    "\n",
    "For each artist, a histogram of song lengths (in terms of number of tokens). If you put the song lengths in a data frame with an artist column, matplotlib will make the plotting quite easy. An example is given to help you out. \n"
   ]
  },
  {
   "cell_type": "code",
   "execution_count": null,
   "id": "805a1e52",
   "metadata": {},
   "outputs": [],
   "source": [
    "num_replicates = 1000\n",
    "\n",
    "df = pd.DataFrame({\n",
    "    \"artist\" : ['Artist 1'] * num_replicates + ['Artist 2']*num_replicates,\n",
    "    \"length\" : np.concatenate((np.random.poisson(125,num_replicates),np.random.poisson(150,num_replicates)))\n",
    "})\n",
    "\n",
    "df.groupby('artist')['length'].plot(kind=\"hist\",density=True,alpha=0.5,legend=True)"
   ]
  },
  {
   "cell_type": "markdown",
   "id": "8fde9ebb",
   "metadata": {},
   "source": [
    "Since the lyrics may be stored with carriage returns or tabs, it may be useful to have a function that can collapse whitespace, using regular expressions, and be used for splitting. \n",
    "\n",
    "Q: What does the regular expression `'\\s+'` match on? \n",
    "\n",
    "A: \n"
   ]
  },
  {
   "cell_type": "code",
   "execution_count": null,
   "id": "f0e34516",
   "metadata": {},
   "outputs": [],
   "source": [
    "collapse_whitespace = re.compile(r'\\s+')\n",
    "\n",
    "def tokenize_lyrics(lyric) : \n",
    "    \"\"\"strip and split on whitespace\"\"\"\n",
    "    return([item.lower() for item in collapse_whitespace.split(lyric)])"
   ]
  },
  {
   "cell_type": "code",
   "execution_count": null,
   "id": "2294c440",
   "metadata": {},
   "outputs": [],
   "source": [
    "# Your lyric length comparison chart here. "
   ]
  }
 ],
 "metadata": {
  "kernelspec": {
   "display_name": "Python 3",
   "language": "python",
   "name": "python3"
  },
  "language_info": {
   "codemirror_mode": {
    "name": "ipython",
    "version": 3
   },
   "file_extension": ".py",
   "mimetype": "text/x-python",
   "name": "python",
   "nbconvert_exporter": "python",
   "pygments_lexer": "ipython3",
   "version": "3.12.8"
  }
 },
 "nbformat": 4,
 "nbformat_minor": 5
}
